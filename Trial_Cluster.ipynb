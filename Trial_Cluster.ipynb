{
 "cells": [
  {
   "cell_type": "code",
   "execution_count": 1,
   "id": "137977bf",
   "metadata": {},
   "outputs": [],
   "source": [
    "import numpy as np\n",
    "import pandas as pd\n",
    "import matplotlib.pyplot as plt\n",
    "import seaborn as sns\n",
    "import datetime as dt"
   ]
  },
  {
   "cell_type": "code",
   "execution_count": 2,
   "id": "fd0e1ab8",
   "metadata": {},
   "outputs": [],
   "source": [
    "df = pd.read_csv(\"C:/Users/Abhyankar/Downloads/Health_Supplements.csv\")"
   ]
  },
  {
   "cell_type": "code",
   "execution_count": 3,
   "id": "772ab8ac",
   "metadata": {},
   "outputs": [
    {
     "data": {
      "text/html": [
       "<div>\n",
       "<style scoped>\n",
       "    .dataframe tbody tr th:only-of-type {\n",
       "        vertical-align: middle;\n",
       "    }\n",
       "\n",
       "    .dataframe tbody tr th {\n",
       "        vertical-align: top;\n",
       "    }\n",
       "\n",
       "    .dataframe thead th {\n",
       "        text-align: right;\n",
       "    }\n",
       "</style>\n",
       "<table border=\"1\" class=\"dataframe\">\n",
       "  <thead>\n",
       "    <tr style=\"text-align: right;\">\n",
       "      <th></th>\n",
       "      <th>Unnamed: 0</th>\n",
       "      <th>Company</th>\n",
       "      <th>Product</th>\n",
       "      <th>Rating</th>\n",
       "      <th>Rating Counts</th>\n",
       "      <th>Price</th>\n",
       "      <th>Product Link</th>\n",
       "      <th>WebSite</th>\n",
       "      <th>Type of supplement</th>\n",
       "      <th>Num Quantity</th>\n",
       "      <th>Units Values</th>\n",
       "      <th>Category</th>\n",
       "      <th>Consumer</th>\n",
       "      <th>Flavour</th>\n",
       "      <th>Amount</th>\n",
       "      <th>Per Unit Price</th>\n",
       "      <th>Vegetarian</th>\n",
       "    </tr>\n",
       "  </thead>\n",
       "  <tbody>\n",
       "    <tr>\n",
       "      <th>0</th>\n",
       "      <td>0</td>\n",
       "      <td>Six Star</td>\n",
       "      <td>Six Star 100% Creatine</td>\n",
       "      <td>4.5</td>\n",
       "      <td>11</td>\n",
       "      <td>22.99</td>\n",
       "      <td>https://walgreens.com/store/c/six-star-100-cre...</td>\n",
       "      <td>Walgreens</td>\n",
       "      <td>Creatine</td>\n",
       "      <td>10.58</td>\n",
       "      <td>NaN</td>\n",
       "      <td>general</td>\n",
       "      <td>general</td>\n",
       "      <td>general</td>\n",
       "      <td>NaN</td>\n",
       "      <td>2.17</td>\n",
       "      <td>general</td>\n",
       "    </tr>\n",
       "    <tr>\n",
       "      <th>1</th>\n",
       "      <td>1</td>\n",
       "      <td>Six Star</td>\n",
       "      <td>Six Star Creatine X3, Powder</td>\n",
       "      <td>4.5</td>\n",
       "      <td>72</td>\n",
       "      <td>29.99</td>\n",
       "      <td>https://walgreens.com/store/c/six-star-creatin...</td>\n",
       "      <td>Walgreens</td>\n",
       "      <td>Creatine</td>\n",
       "      <td>2.18</td>\n",
       "      <td>NaN</td>\n",
       "      <td>general</td>\n",
       "      <td>general</td>\n",
       "      <td>general</td>\n",
       "      <td>NaN</td>\n",
       "      <td>0.86</td>\n",
       "      <td>general</td>\n",
       "    </tr>\n",
       "    <tr>\n",
       "      <th>2</th>\n",
       "      <td>2</td>\n",
       "      <td>Walgreens</td>\n",
       "      <td>Walgreens Whey Protein Powder with Creatine &amp; ...</td>\n",
       "      <td>5.0</td>\n",
       "      <td>2</td>\n",
       "      <td>5.00</td>\n",
       "      <td>https://walgreens.com/store/c/walgreens-whey-p...</td>\n",
       "      <td>Walgreens</td>\n",
       "      <td>Creatine</td>\n",
       "      <td>1.4</td>\n",
       "      <td>NaN</td>\n",
       "      <td>general</td>\n",
       "      <td>general</td>\n",
       "      <td>chocolate</td>\n",
       "      <td>NaN</td>\n",
       "      <td>5</td>\n",
       "      <td>general</td>\n",
       "    </tr>\n",
       "    <tr>\n",
       "      <th>3</th>\n",
       "      <td>3</td>\n",
       "      <td>Walgreens</td>\n",
       "      <td>Walgreens Women's Multivitamin Gummies Natural...</td>\n",
       "      <td>4.0</td>\n",
       "      <td>58</td>\n",
       "      <td>13.99</td>\n",
       "      <td>https://walgreens.com/store/c/walgreens-women'...</td>\n",
       "      <td>Walgreens</td>\n",
       "      <td>Multivitamins</td>\n",
       "      <td>150</td>\n",
       "      <td>Tablets</td>\n",
       "      <td>whole_food_multivitamins</td>\n",
       "      <td>general</td>\n",
       "      <td>berry</td>\n",
       "      <td>150</td>\n",
       "      <td>0.09</td>\n",
       "      <td>general</td>\n",
       "    </tr>\n",
       "    <tr>\n",
       "      <th>4</th>\n",
       "      <td>4</td>\n",
       "      <td>Walgreens</td>\n",
       "      <td>Walgreens Adult Multivitamin Tablets</td>\n",
       "      <td>4.5</td>\n",
       "      <td>49</td>\n",
       "      <td>14.99</td>\n",
       "      <td>https://walgreens.com/store/c/walgreens-adult-...</td>\n",
       "      <td>Walgreens</td>\n",
       "      <td>Multivitamins</td>\n",
       "      <td>200</td>\n",
       "      <td>Tablets</td>\n",
       "      <td>age_specific_multivitamins</td>\n",
       "      <td>general</td>\n",
       "      <td>general</td>\n",
       "      <td>200</td>\n",
       "      <td>0.07</td>\n",
       "      <td>general</td>\n",
       "    </tr>\n",
       "  </tbody>\n",
       "</table>\n",
       "</div>"
      ],
      "text/plain": [
       "   Unnamed: 0    Company                                            Product  \\\n",
       "0           0   Six Star                             Six Star 100% Creatine   \n",
       "1           1   Six Star                       Six Star Creatine X3, Powder   \n",
       "2           2  Walgreens  Walgreens Whey Protein Powder with Creatine & ...   \n",
       "3           3  Walgreens  Walgreens Women's Multivitamin Gummies Natural...   \n",
       "4           4  Walgreens               Walgreens Adult Multivitamin Tablets   \n",
       "\n",
       "   Rating  Rating Counts  Price  \\\n",
       "0     4.5             11  22.99   \n",
       "1     4.5             72  29.99   \n",
       "2     5.0              2   5.00   \n",
       "3     4.0             58  13.99   \n",
       "4     4.5             49  14.99   \n",
       "\n",
       "                                        Product Link    WebSite  \\\n",
       "0  https://walgreens.com/store/c/six-star-100-cre...  Walgreens   \n",
       "1  https://walgreens.com/store/c/six-star-creatin...  Walgreens   \n",
       "2  https://walgreens.com/store/c/walgreens-whey-p...  Walgreens   \n",
       "3  https://walgreens.com/store/c/walgreens-women'...  Walgreens   \n",
       "4  https://walgreens.com/store/c/walgreens-adult-...  Walgreens   \n",
       "\n",
       "  Type of supplement Num Quantity Units Values                    Category  \\\n",
       "0           Creatine        10.58          NaN                     general   \n",
       "1           Creatine         2.18          NaN                     general   \n",
       "2           Creatine          1.4          NaN                     general   \n",
       "3      Multivitamins          150      Tablets    whole_food_multivitamins   \n",
       "4      Multivitamins          200      Tablets  age_specific_multivitamins   \n",
       "\n",
       "  Consumer    Flavour Amount Per Unit Price Vegetarian  \n",
       "0  general    general    NaN           2.17    general  \n",
       "1  general    general    NaN           0.86    general  \n",
       "2  general  chocolate    NaN              5    general  \n",
       "3  general      berry    150           0.09    general  \n",
       "4  general    general    200           0.07    general  "
      ]
     },
     "execution_count": 3,
     "metadata": {},
     "output_type": "execute_result"
    }
   ],
   "source": [
    "df.head()"
   ]
  },
  {
   "cell_type": "code",
   "execution_count": 4,
   "id": "a62724ad",
   "metadata": {},
   "outputs": [
    {
     "name": "stdout",
     "output_type": "stream",
     "text": [
      "<class 'pandas.core.frame.DataFrame'>\n",
      "RangeIndex: 18668 entries, 0 to 18667\n",
      "Data columns (total 17 columns):\n",
      " #   Column              Non-Null Count  Dtype  \n",
      "---  ------              --------------  -----  \n",
      " 0   Unnamed: 0          18668 non-null  int64  \n",
      " 1   Company             18668 non-null  object \n",
      " 2   Product             18668 non-null  object \n",
      " 3   Rating              18668 non-null  float64\n",
      " 4   Rating Counts       18668 non-null  int64  \n",
      " 5   Price               18668 non-null  float64\n",
      " 6   Product Link        18668 non-null  object \n",
      " 7   WebSite             18668 non-null  object \n",
      " 8   Type of supplement  18668 non-null  object \n",
      " 9   Num Quantity        18629 non-null  object \n",
      " 10  Units Values        18659 non-null  object \n",
      " 11  Category            18355 non-null  object \n",
      " 12  Consumer            18668 non-null  object \n",
      " 13  Flavour             18668 non-null  object \n",
      " 14  Amount              18659 non-null  object \n",
      " 15  Per Unit Price      18668 non-null  object \n",
      " 16  Vegetarian          18668 non-null  object \n",
      "dtypes: float64(2), int64(2), object(13)\n",
      "memory usage: 2.4+ MB\n"
     ]
    }
   ],
   "source": [
    "df.info()"
   ]
  },
  {
   "cell_type": "code",
   "execution_count": 5,
   "id": "ea62422b",
   "metadata": {},
   "outputs": [
    {
     "data": {
      "text/plain": [
       "Unnamed: 0              0\n",
       "Company                 0\n",
       "Product                 0\n",
       "Rating                  0\n",
       "Rating Counts           0\n",
       "Price                   0\n",
       "Product Link            0\n",
       "WebSite                 0\n",
       "Type of supplement      0\n",
       "Num Quantity           39\n",
       "Units Values            9\n",
       "Category              313\n",
       "Consumer                0\n",
       "Flavour                 0\n",
       "Amount                  9\n",
       "Per Unit Price          0\n",
       "Vegetarian              0\n",
       "dtype: int64"
      ]
     },
     "execution_count": 5,
     "metadata": {},
     "output_type": "execute_result"
    }
   ],
   "source": [
    "df.isnull().sum()"
   ]
  },
  {
   "cell_type": "code",
   "execution_count": 6,
   "id": "0bbaf8c9",
   "metadata": {},
   "outputs": [],
   "source": [
    "df['Category'] = df['Category'].fillna('general')"
   ]
  },
  {
   "cell_type": "code",
   "execution_count": 7,
   "id": "f620c1df",
   "metadata": {},
   "outputs": [
    {
     "data": {
      "text/plain": [
       "Unnamed: 0             0\n",
       "Company                0\n",
       "Product                0\n",
       "Rating                 0\n",
       "Rating Counts          0\n",
       "Price                  0\n",
       "Product Link           0\n",
       "WebSite                0\n",
       "Type of supplement     0\n",
       "Num Quantity          39\n",
       "Units Values           9\n",
       "Category               0\n",
       "Consumer               0\n",
       "Flavour                0\n",
       "Amount                 9\n",
       "Per Unit Price         0\n",
       "Vegetarian             0\n",
       "dtype: int64"
      ]
     },
     "execution_count": 7,
     "metadata": {},
     "output_type": "execute_result"
    }
   ],
   "source": [
    "df.isnull().sum()"
   ]
  },
  {
   "cell_type": "code",
   "execution_count": 8,
   "id": "764d230b",
   "metadata": {},
   "outputs": [],
   "source": [
    "clust_df = df[df['Type of supplement'] == 'Multivitamins']"
   ]
  },
  {
   "cell_type": "code",
   "execution_count": 9,
   "id": "e9ef8623",
   "metadata": {},
   "outputs": [
    {
     "data": {
      "text/html": [
       "<div>\n",
       "<style scoped>\n",
       "    .dataframe tbody tr th:only-of-type {\n",
       "        vertical-align: middle;\n",
       "    }\n",
       "\n",
       "    .dataframe tbody tr th {\n",
       "        vertical-align: top;\n",
       "    }\n",
       "\n",
       "    .dataframe thead th {\n",
       "        text-align: right;\n",
       "    }\n",
       "</style>\n",
       "<table border=\"1\" class=\"dataframe\">\n",
       "  <thead>\n",
       "    <tr style=\"text-align: right;\">\n",
       "      <th></th>\n",
       "      <th>Unnamed: 0</th>\n",
       "      <th>Company</th>\n",
       "      <th>Product</th>\n",
       "      <th>Rating</th>\n",
       "      <th>Rating Counts</th>\n",
       "      <th>Price</th>\n",
       "      <th>Product Link</th>\n",
       "      <th>WebSite</th>\n",
       "      <th>Type of supplement</th>\n",
       "      <th>Num Quantity</th>\n",
       "      <th>Units Values</th>\n",
       "      <th>Category</th>\n",
       "      <th>Consumer</th>\n",
       "      <th>Flavour</th>\n",
       "      <th>Amount</th>\n",
       "      <th>Per Unit Price</th>\n",
       "      <th>Vegetarian</th>\n",
       "    </tr>\n",
       "  </thead>\n",
       "  <tbody>\n",
       "    <tr>\n",
       "      <th>3</th>\n",
       "      <td>3</td>\n",
       "      <td>Walgreens</td>\n",
       "      <td>Walgreens Women's Multivitamin Gummies Natural...</td>\n",
       "      <td>4.0</td>\n",
       "      <td>58</td>\n",
       "      <td>13.99</td>\n",
       "      <td>https://walgreens.com/store/c/walgreens-women'...</td>\n",
       "      <td>Walgreens</td>\n",
       "      <td>Multivitamins</td>\n",
       "      <td>150</td>\n",
       "      <td>Tablets</td>\n",
       "      <td>whole_food_multivitamins</td>\n",
       "      <td>general</td>\n",
       "      <td>berry</td>\n",
       "      <td>150</td>\n",
       "      <td>0.09</td>\n",
       "      <td>general</td>\n",
       "    </tr>\n",
       "    <tr>\n",
       "      <th>4</th>\n",
       "      <td>4</td>\n",
       "      <td>Walgreens</td>\n",
       "      <td>Walgreens Adult Multivitamin Tablets</td>\n",
       "      <td>4.5</td>\n",
       "      <td>49</td>\n",
       "      <td>14.99</td>\n",
       "      <td>https://walgreens.com/store/c/walgreens-adult-...</td>\n",
       "      <td>Walgreens</td>\n",
       "      <td>Multivitamins</td>\n",
       "      <td>200</td>\n",
       "      <td>Tablets</td>\n",
       "      <td>age_specific_multivitamins</td>\n",
       "      <td>general</td>\n",
       "      <td>general</td>\n",
       "      <td>200</td>\n",
       "      <td>0.07</td>\n",
       "      <td>general</td>\n",
       "    </tr>\n",
       "    <tr>\n",
       "      <th>5</th>\n",
       "      <td>5</td>\n",
       "      <td>Walgreens</td>\n",
       "      <td>Walgreens Men 50+ Multivitamin Tablets, Gluten...</td>\n",
       "      <td>4.5</td>\n",
       "      <td>84</td>\n",
       "      <td>15.99</td>\n",
       "      <td>https://walgreens.com/store/c/walgreens-men-50...</td>\n",
       "      <td>Walgreens</td>\n",
       "      <td>Multivitamins</td>\n",
       "      <td>200</td>\n",
       "      <td>Tablets</td>\n",
       "      <td>general</td>\n",
       "      <td>Men</td>\n",
       "      <td>general</td>\n",
       "      <td>200</td>\n",
       "      <td>0.08</td>\n",
       "      <td>general</td>\n",
       "    </tr>\n",
       "    <tr>\n",
       "      <th>6</th>\n",
       "      <td>6</td>\n",
       "      <td>Nature Made</td>\n",
       "      <td>Nature Made Multivitamin For Her Tablets</td>\n",
       "      <td>4.6</td>\n",
       "      <td>143</td>\n",
       "      <td>13.99</td>\n",
       "      <td>https://walgreens.com/store/c/nature-made-mult...</td>\n",
       "      <td>Walgreens</td>\n",
       "      <td>Multivitamins</td>\n",
       "      <td>90</td>\n",
       "      <td>Tablets</td>\n",
       "      <td>general</td>\n",
       "      <td>general</td>\n",
       "      <td>general</td>\n",
       "      <td>90</td>\n",
       "      <td>0.16</td>\n",
       "      <td>general</td>\n",
       "    </tr>\n",
       "    <tr>\n",
       "      <th>7</th>\n",
       "      <td>7</td>\n",
       "      <td>Nature Made</td>\n",
       "      <td>Nature Made Multivitamin For Her Tablets</td>\n",
       "      <td>4.5</td>\n",
       "      <td>143</td>\n",
       "      <td>13.99</td>\n",
       "      <td>https://walgreens.com/store/c/nature-made-mult...</td>\n",
       "      <td>Walgreens</td>\n",
       "      <td>Multivitamins</td>\n",
       "      <td>90</td>\n",
       "      <td>Tablets</td>\n",
       "      <td>general</td>\n",
       "      <td>general</td>\n",
       "      <td>general</td>\n",
       "      <td>90</td>\n",
       "      <td>0.16</td>\n",
       "      <td>general</td>\n",
       "    </tr>\n",
       "  </tbody>\n",
       "</table>\n",
       "</div>"
      ],
      "text/plain": [
       "   Unnamed: 0      Company                                            Product  \\\n",
       "3           3    Walgreens  Walgreens Women's Multivitamin Gummies Natural...   \n",
       "4           4    Walgreens               Walgreens Adult Multivitamin Tablets   \n",
       "5           5    Walgreens  Walgreens Men 50+ Multivitamin Tablets, Gluten...   \n",
       "6           6  Nature Made           Nature Made Multivitamin For Her Tablets   \n",
       "7           7  Nature Made           Nature Made Multivitamin For Her Tablets   \n",
       "\n",
       "   Rating  Rating Counts  Price  \\\n",
       "3     4.0             58  13.99   \n",
       "4     4.5             49  14.99   \n",
       "5     4.5             84  15.99   \n",
       "6     4.6            143  13.99   \n",
       "7     4.5            143  13.99   \n",
       "\n",
       "                                        Product Link    WebSite  \\\n",
       "3  https://walgreens.com/store/c/walgreens-women'...  Walgreens   \n",
       "4  https://walgreens.com/store/c/walgreens-adult-...  Walgreens   \n",
       "5  https://walgreens.com/store/c/walgreens-men-50...  Walgreens   \n",
       "6  https://walgreens.com/store/c/nature-made-mult...  Walgreens   \n",
       "7  https://walgreens.com/store/c/nature-made-mult...  Walgreens   \n",
       "\n",
       "  Type of supplement Num Quantity Units Values                    Category  \\\n",
       "3      Multivitamins          150      Tablets    whole_food_multivitamins   \n",
       "4      Multivitamins          200      Tablets  age_specific_multivitamins   \n",
       "5      Multivitamins          200      Tablets                     general   \n",
       "6      Multivitamins           90      Tablets                     general   \n",
       "7      Multivitamins           90      Tablets                     general   \n",
       "\n",
       "  Consumer  Flavour Amount Per Unit Price Vegetarian  \n",
       "3  general    berry    150           0.09    general  \n",
       "4  general  general    200           0.07    general  \n",
       "5      Men  general    200           0.08    general  \n",
       "6  general  general     90           0.16    general  \n",
       "7  general  general     90           0.16    general  "
      ]
     },
     "execution_count": 9,
     "metadata": {},
     "output_type": "execute_result"
    }
   ],
   "source": [
    "clust_df.head()"
   ]
  },
  {
   "cell_type": "code",
   "execution_count": 10,
   "id": "42fcea94",
   "metadata": {},
   "outputs": [],
   "source": [
    "req = ['Company', 'WebSite', 'Price', 'Rating']\n",
    "\n",
    "clust = clust_df[req]"
   ]
  },
  {
   "cell_type": "code",
   "execution_count": 11,
   "id": "1e34a0e7",
   "metadata": {},
   "outputs": [
    {
     "data": {
      "text/html": [
       "<div>\n",
       "<style scoped>\n",
       "    .dataframe tbody tr th:only-of-type {\n",
       "        vertical-align: middle;\n",
       "    }\n",
       "\n",
       "    .dataframe tbody tr th {\n",
       "        vertical-align: top;\n",
       "    }\n",
       "\n",
       "    .dataframe thead th {\n",
       "        text-align: right;\n",
       "    }\n",
       "</style>\n",
       "<table border=\"1\" class=\"dataframe\">\n",
       "  <thead>\n",
       "    <tr style=\"text-align: right;\">\n",
       "      <th></th>\n",
       "      <th>Company</th>\n",
       "      <th>WebSite</th>\n",
       "      <th>Price</th>\n",
       "      <th>Rating</th>\n",
       "    </tr>\n",
       "  </thead>\n",
       "  <tbody>\n",
       "    <tr>\n",
       "      <th>3</th>\n",
       "      <td>Walgreens</td>\n",
       "      <td>Walgreens</td>\n",
       "      <td>13.99</td>\n",
       "      <td>4.0</td>\n",
       "    </tr>\n",
       "    <tr>\n",
       "      <th>4</th>\n",
       "      <td>Walgreens</td>\n",
       "      <td>Walgreens</td>\n",
       "      <td>14.99</td>\n",
       "      <td>4.5</td>\n",
       "    </tr>\n",
       "    <tr>\n",
       "      <th>5</th>\n",
       "      <td>Walgreens</td>\n",
       "      <td>Walgreens</td>\n",
       "      <td>15.99</td>\n",
       "      <td>4.5</td>\n",
       "    </tr>\n",
       "    <tr>\n",
       "      <th>6</th>\n",
       "      <td>Nature Made</td>\n",
       "      <td>Walgreens</td>\n",
       "      <td>13.99</td>\n",
       "      <td>4.6</td>\n",
       "    </tr>\n",
       "    <tr>\n",
       "      <th>7</th>\n",
       "      <td>Nature Made</td>\n",
       "      <td>Walgreens</td>\n",
       "      <td>13.99</td>\n",
       "      <td>4.5</td>\n",
       "    </tr>\n",
       "  </tbody>\n",
       "</table>\n",
       "</div>"
      ],
      "text/plain": [
       "       Company    WebSite  Price  Rating\n",
       "3    Walgreens  Walgreens  13.99     4.0\n",
       "4    Walgreens  Walgreens  14.99     4.5\n",
       "5    Walgreens  Walgreens  15.99     4.5\n",
       "6  Nature Made  Walgreens  13.99     4.6\n",
       "7  Nature Made  Walgreens  13.99     4.5"
      ]
     },
     "execution_count": 11,
     "metadata": {},
     "output_type": "execute_result"
    }
   ],
   "source": [
    "clust.head()"
   ]
  },
  {
   "cell_type": "code",
   "execution_count": 12,
   "id": "36100395",
   "metadata": {},
   "outputs": [
    {
     "name": "stderr",
     "output_type": "stream",
     "text": [
      "C:\\Users\\Abhyankar\\AppData\\Local\\Temp\\ipykernel_264\\1310590110.py:3: SettingWithCopyWarning: \n",
      "A value is trying to be set on a copy of a slice from a DataFrame.\n",
      "Try using .loc[row_indexer,col_indexer] = value instead\n",
      "\n",
      "See the caveats in the documentation: https://pandas.pydata.org/pandas-docs/stable/user_guide/indexing.html#returning-a-view-versus-a-copy\n",
      "  clust['Company'] = le.fit_transform(clust['Company'])\n",
      "C:\\Users\\Abhyankar\\AppData\\Local\\Temp\\ipykernel_264\\1310590110.py:4: SettingWithCopyWarning: \n",
      "A value is trying to be set on a copy of a slice from a DataFrame.\n",
      "Try using .loc[row_indexer,col_indexer] = value instead\n",
      "\n",
      "See the caveats in the documentation: https://pandas.pydata.org/pandas-docs/stable/user_guide/indexing.html#returning-a-view-versus-a-copy\n",
      "  clust['WebSite'] = le.fit_transform(clust['WebSite'])\n"
     ]
    }
   ],
   "source": [
    "from sklearn import preprocessing\n",
    "le = preprocessing.LabelEncoder()\n",
    "clust['Company'] = le.fit_transform(clust['Company'])\n",
    "clust['WebSite'] = le.fit_transform(clust['WebSite'])"
   ]
  },
  {
   "cell_type": "code",
   "execution_count": 13,
   "id": "5789527a",
   "metadata": {},
   "outputs": [
    {
     "data": {
      "text/html": [
       "<div>\n",
       "<style scoped>\n",
       "    .dataframe tbody tr th:only-of-type {\n",
       "        vertical-align: middle;\n",
       "    }\n",
       "\n",
       "    .dataframe tbody tr th {\n",
       "        vertical-align: top;\n",
       "    }\n",
       "\n",
       "    .dataframe thead th {\n",
       "        text-align: right;\n",
       "    }\n",
       "</style>\n",
       "<table border=\"1\" class=\"dataframe\">\n",
       "  <thead>\n",
       "    <tr style=\"text-align: right;\">\n",
       "      <th></th>\n",
       "      <th>Company</th>\n",
       "      <th>WebSite</th>\n",
       "      <th>Price</th>\n",
       "      <th>Rating</th>\n",
       "    </tr>\n",
       "  </thead>\n",
       "  <tbody>\n",
       "    <tr>\n",
       "      <th>3</th>\n",
       "      <td>191</td>\n",
       "      <td>0</td>\n",
       "      <td>13.99</td>\n",
       "      <td>4.0</td>\n",
       "    </tr>\n",
       "    <tr>\n",
       "      <th>4</th>\n",
       "      <td>191</td>\n",
       "      <td>0</td>\n",
       "      <td>14.99</td>\n",
       "      <td>4.5</td>\n",
       "    </tr>\n",
       "    <tr>\n",
       "      <th>5</th>\n",
       "      <td>191</td>\n",
       "      <td>0</td>\n",
       "      <td>15.99</td>\n",
       "      <td>4.5</td>\n",
       "    </tr>\n",
       "    <tr>\n",
       "      <th>6</th>\n",
       "      <td>110</td>\n",
       "      <td>0</td>\n",
       "      <td>13.99</td>\n",
       "      <td>4.6</td>\n",
       "    </tr>\n",
       "    <tr>\n",
       "      <th>7</th>\n",
       "      <td>110</td>\n",
       "      <td>0</td>\n",
       "      <td>13.99</td>\n",
       "      <td>4.5</td>\n",
       "    </tr>\n",
       "  </tbody>\n",
       "</table>\n",
       "</div>"
      ],
      "text/plain": [
       "   Company  WebSite  Price  Rating\n",
       "3      191        0  13.99     4.0\n",
       "4      191        0  14.99     4.5\n",
       "5      191        0  15.99     4.5\n",
       "6      110        0  13.99     4.6\n",
       "7      110        0  13.99     4.5"
      ]
     },
     "execution_count": 13,
     "metadata": {},
     "output_type": "execute_result"
    }
   ],
   "source": [
    "clust.head()"
   ]
  },
  {
   "cell_type": "code",
   "execution_count": 14,
   "id": "6628f1e0",
   "metadata": {},
   "outputs": [],
   "source": [
    "import sklearn\n",
    "from sklearn.preprocessing import StandardScaler\n",
    "from sklearn.cluster import KMeans\n",
    "from sklearn.metrics import silhouette_score"
   ]
  },
  {
   "cell_type": "code",
   "execution_count": 15,
   "id": "54746d6e",
   "metadata": {},
   "outputs": [],
   "source": [
    "scaler = StandardScaler()\n",
    "\n",
    "clust_f = scaler.fit_transform(clust)"
   ]
  },
  {
   "cell_type": "code",
   "execution_count": 16,
   "id": "1be31fc7",
   "metadata": {},
   "outputs": [
    {
     "data": {
      "text/plain": [
       "(4081, 4)"
      ]
     },
     "execution_count": 16,
     "metadata": {},
     "output_type": "execute_result"
    }
   ],
   "source": [
    "clust_f.shape"
   ]
  },
  {
   "cell_type": "code",
   "execution_count": 17,
   "id": "dca01159",
   "metadata": {},
   "outputs": [
    {
     "data": {
      "text/plain": [
       "[<matplotlib.lines.Line2D at 0x1c0d51e4ac0>]"
      ]
     },
     "execution_count": 17,
     "metadata": {},
     "output_type": "execute_result"
    },
    {
     "data": {
      "image/png": "[encoded data removed]",
      "text/plain": [
       "<Figure size 640x480 with 1 Axes>"
      ]
     },
     "metadata": {},
     "output_type": "display_data"
    }
   ],
   "source": [
    "#Elbow Method\n",
    "ssd = []\n",
    "range_n_clusters = [2, 3, 4, 5, 6, 7, 8]\n",
    "for num_clusters in range_n_clusters:\n",
    "    kmeans = KMeans(n_clusters=num_clusters, max_iter=50)\n",
    "    kmeans.fit(clust_f)\n",
    "    \n",
    "    ssd.append(kmeans.inertia_)\n",
    "    \n",
    "# plot the SSDs for each n_clusters\n",
    "plt.plot(ssd)"
   ]
  },
  {
   "cell_type": "code",
   "execution_count": 18,
   "id": "89028d41",
   "metadata": {},
   "outputs": [
    {
     "name": "stdout",
     "output_type": "stream",
     "text": [
      "For n_clusters=2, the silhouette score is 0.4339832969433178\n",
      "For n_clusters=3, the silhouette score is 0.44078560809044093\n",
      "For n_clusters=4, the silhouette score is 0.4079808117803511\n",
      "For n_clusters=5, the silhouette score is 0.4149913053876908\n",
      "For n_clusters=6, the silhouette score is 0.4351562730772865\n",
      "For n_clusters=7, the silhouette score is 0.4088896985341433\n",
      "For n_clusters=8, the silhouette score is 0.391712266578016\n"
     ]
    }
   ],
   "source": [
    "# Silhouette analysis\n",
    "range_n_clusters = [2, 3, 4, 5, 6, 7, 8]\n",
    "\n",
    "for num_clusters in range_n_clusters:\n",
    "    \n",
    "    # intialise kmeans\n",
    "    kmeans = KMeans(n_clusters=num_clusters, max_iter=50)\n",
    "    kmeans.fit(clust_f)\n",
    "    \n",
    "    cluster_labels = kmeans.labels_\n",
    "    \n",
    "    # silhouette score\n",
    "    silhouette_avg = silhouette_score(clust_f, cluster_labels)\n",
    "    print(\"For n_clusters={0}, the silhouette score is {1}\".format(num_clusters, silhouette_avg))"
   ]
  },
  {
   "cell_type": "code",
   "execution_count": 19,
   "id": "8f8f2c8f",
   "metadata": {},
   "outputs": [
    {
     "data": {
      "text/plain": [
       "KMeans(n_clusters=4)"
      ]
     },
     "execution_count": 19,
     "metadata": {},
     "output_type": "execute_result"
    }
   ],
   "source": [
    "k = 4  # Number of clusters\n",
    "kmeans = KMeans(n_clusters=k)\n",
    "kmeans.fit(clust_f)\n"
   ]
  },
  {
   "cell_type": "code",
   "execution_count": 20,
   "id": "6e591f8a",
   "metadata": {},
   "outputs": [
    {
     "data": {
      "text/plain": [
       "array([0, 0, 0, ..., 3, 3, 3])"
      ]
     },
     "execution_count": 20,
     "metadata": {},
     "output_type": "execute_result"
    }
   ],
   "source": [
    "kmeans.labels_"
   ]
  },
  {
   "cell_type": "code",
   "execution_count": 21,
   "id": "3d11d8da",
   "metadata": {},
   "outputs": [
    {
     "name": "stderr",
     "output_type": "stream",
     "text": [
      "C:\\Users\\Abhyankar\\AppData\\Local\\Temp\\ipykernel_264\\1598933165.py:1: SettingWithCopyWarning: \n",
      "A value is trying to be set on a copy of a slice from a DataFrame.\n",
      "Try using .loc[row_indexer,col_indexer] = value instead\n",
      "\n",
      "See the caveats in the documentation: https://pandas.pydata.org/pandas-docs/stable/user_guide/indexing.html#returning-a-view-versus-a-copy\n",
      "  clust['Cluster_Id'] = kmeans.labels_\n"
     ]
    },
    {
     "data": {
      "text/html": [
       "<div>\n",
       "<style scoped>\n",
       "    .dataframe tbody tr th:only-of-type {\n",
       "        vertical-align: middle;\n",
       "    }\n",
       "\n",
       "    .dataframe tbody tr th {\n",
       "        vertical-align: top;\n",
       "    }\n",
       "\n",
       "    .dataframe thead th {\n",
       "        text-align: right;\n",
       "    }\n",
       "</style>\n",
       "<table border=\"1\" class=\"dataframe\">\n",
       "  <thead>\n",
       "    <tr style=\"text-align: right;\">\n",
       "      <th></th>\n",
       "      <th>Company</th>\n",
       "      <th>WebSite</th>\n",
       "      <th>Price</th>\n",
       "      <th>Rating</th>\n",
       "      <th>Cluster_Id</th>\n",
       "    </tr>\n",
       "  </thead>\n",
       "  <tbody>\n",
       "    <tr>\n",
       "      <th>3</th>\n",
       "      <td>191</td>\n",
       "      <td>0</td>\n",
       "      <td>13.99</td>\n",
       "      <td>4.0</td>\n",
       "      <td>0</td>\n",
       "    </tr>\n",
       "    <tr>\n",
       "      <th>4</th>\n",
       "      <td>191</td>\n",
       "      <td>0</td>\n",
       "      <td>14.99</td>\n",
       "      <td>4.5</td>\n",
       "      <td>0</td>\n",
       "    </tr>\n",
       "    <tr>\n",
       "      <th>5</th>\n",
       "      <td>191</td>\n",
       "      <td>0</td>\n",
       "      <td>15.99</td>\n",
       "      <td>4.5</td>\n",
       "      <td>0</td>\n",
       "    </tr>\n",
       "    <tr>\n",
       "      <th>6</th>\n",
       "      <td>110</td>\n",
       "      <td>0</td>\n",
       "      <td>13.99</td>\n",
       "      <td>4.6</td>\n",
       "      <td>0</td>\n",
       "    </tr>\n",
       "    <tr>\n",
       "      <th>7</th>\n",
       "      <td>110</td>\n",
       "      <td>0</td>\n",
       "      <td>13.99</td>\n",
       "      <td>4.5</td>\n",
       "      <td>0</td>\n",
       "    </tr>\n",
       "  </tbody>\n",
       "</table>\n",
       "</div>"
      ],
      "text/plain": [
       "   Company  WebSite  Price  Rating  Cluster_Id\n",
       "3      191        0  13.99     4.0           0\n",
       "4      191        0  14.99     4.5           0\n",
       "5      191        0  15.99     4.5           0\n",
       "6      110        0  13.99     4.6           0\n",
       "7      110        0  13.99     4.5           0"
      ]
     },
     "execution_count": 21,
     "metadata": {},
     "output_type": "execute_result"
    }
   ],
   "source": [
    "clust['Cluster_Id'] = kmeans.labels_\n",
    "clust.head()"
   ]
  },
  {
   "cell_type": "code",
   "execution_count": 22,
   "id": "16acba06",
   "metadata": {},
   "outputs": [
    {
     "data": {
      "text/plain": [
       "<AxesSubplot:xlabel='Cluster_Id', ylabel='Price'>"
      ]
     },
     "execution_count": 22,
     "metadata": {},
     "output_type": "execute_result"
    },
    {
     "data": {
      "image/png": "[encoded data removed]",
      "text/plain": [
       "<Figure size 640x480 with 1 Axes>"
      ]
     },
     "metadata": {},
     "output_type": "display_data"
    }
   ],
   "source": [
    "sns.boxplot(x='Cluster_Id', y='Price', data=clust)"
   ]
  },
  {
   "cell_type": "code",
   "execution_count": 23,
   "id": "1cee14d1",
   "metadata": {},
   "outputs": [
    {
     "data": {
      "text/plain": [
       "<AxesSubplot:xlabel='Cluster_Id', ylabel='Rating'>"
      ]
     },
     "execution_count": 23,
     "metadata": {},
     "output_type": "execute_result"
    },
    {
     "data": {
      "image/png": "[encoded data removed]",
      "text/plain": [
       "<Figure size 640x480 with 1 Axes>"
      ]
     },
     "metadata": {},
     "output_type": "display_data"
    }
   ],
   "source": [
    "sns.boxplot(x='Cluster_Id', y='Rating', data=clust)"
   ]
  },
  {
   "cell_type": "code",
   "execution_count": 24,
   "id": "5b8f22e5",
   "metadata": {},
   "outputs": [],
   "source": [
    "clust.to_csv(\"Cluster.csv\")"
   ]
  },
  {
   "cell_type": "code",
   "execution_count": 25,
   "id": "da81c981",
   "metadata": {},
   "outputs": [
    {
     "data": {
      "image/png": "[encoded data removed]",
      "text/plain": [
       "<Figure size 800x600 with 1 Axes>"
      ]
     },
     "metadata": {},
     "output_type": "display_data"
    }
   ],
   "source": [
    "# Scatter plot of the clusters\n",
    "plt.figure(figsize=(8, 6))\n",
    "\n",
    "# Extract the feature columns for visualization\n",
    "feature_cols = ['Cluster_Id', 'Price']  # Replace 'Feature1' and 'Feature2' with the actual column names in your 'clust' DataFrame\n",
    "\n",
    "# Loop through each cluster and plot the data points belonging to that cluster with a different color\n",
    "for cluster_id in range(k):\n",
    "    cluster_data = clust[clust['Cluster_Id'] == cluster_id]\n",
    "    plt.scatter(cluster_data[feature_cols[0]], cluster_data[feature_cols[1]], label=f'Cluster {cluster_id + 1}')\n",
    "\n",
    "# Plot the centroids of each cluster as well\n",
    "centroids = kmeans.cluster_centers_\n",
    "plt.scatter(centroids[:, 0], centroids[:, 1], s=100, c='black', marker='X', label='Centroids')\n",
    "\n",
    "# Set plot labels and title\n",
    "plt.xlabel('Cluster_Id')\n",
    "plt.ylabel('Price')\n",
    "plt.title('K-means Clustering')\n",
    "\n",
    "# Show the legend\n",
    "plt.legend()\n",
    "\n",
    "# Show the plot\n",
    "plt.show()"
   ]
  },
  {
   "cell_type": "code",
   "execution_count": 26,
   "id": "67b5b434",
   "metadata": {},
   "outputs": [
    {
     "data": {
      "image/png": "[encoded data removed]",
      "text/plain": [
       "<Figure size 800x600 with 1 Axes>"
      ]
     },
     "metadata": {},
     "output_type": "display_data"
    }
   ],
   "source": [
    "# Scatter plot of the clusters\n",
    "plt.figure(figsize=(8, 6))\n",
    "\n",
    "# Extract the feature columns for visualization\n",
    "feature_cols = ['Cluster_Id', 'Rating']  # Replace 'Feature1' and 'Feature2' with the actual column names in your 'clust' DataFrame\n",
    "\n",
    "# Loop through each cluster and plot the data points belonging to that cluster with a different color\n",
    "for cluster_id in range(k):\n",
    "    cluster_data = clust[clust['Cluster_Id'] == cluster_id]\n",
    "    plt.scatter(cluster_data[feature_cols[0]], cluster_data[feature_cols[1]], label=f'Cluster {cluster_id + 1}')\n",
    "\n",
    "# Plot the centroids of each cluster as well\n",
    "centroids = kmeans.cluster_centers_\n",
    "plt.scatter(centroids[:, 0], centroids[:, 1], s=100, c='black', marker='X', label='Centroids')\n",
    "\n",
    "# Set plot labels and title\n",
    "plt.xlabel('Cluster_Id')\n",
    "plt.ylabel('Rating')\n",
    "plt.title('K-means Clustering')\n",
    "\n",
    "# Show the legend\n",
    "plt.legend()\n",
    "\n",
    "# Show the plot\n",
    "plt.show()"
   ]
  },
  {
   "cell_type": "code",
   "execution_count": null,
   "id": "0d4ba8a2",
   "metadata": {},
   "outputs": [],
   "source": []
  }
 ],
 "metadata": {
  "kernelspec": {
   "display_name": "Python 3 (ipykernel)",
   "language": "python",
   "name": "python3"
  },
  "language_info": {
   "codemirror_mode": {
    "name": "ipython",
    "version": 3
   },
   "file_extension": ".py",
   "mimetype": "text/x-python",
   "name": "python",
   "nbconvert_exporter": "python",
   "pygments_lexer": "ipython3",
   "version": "3.9.7"
  }
 },
 "nbformat": 4,
 "nbformat_minor": 5
}
