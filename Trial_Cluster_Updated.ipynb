{
 "cells": [
  {
   "cell_type": "code",
   "execution_count": 1,
   "id": "137977bf",
   "metadata": {},
   "outputs": [],
   "source": [
    "import numpy as np\n",
    "import pandas as pd\n",
    "import matplotlib.pyplot as plt\n",
    "import seaborn as sns\n",
    "import datetime as dt"
   ]
  },
  {
   "cell_type": "code",
   "execution_count": 2,
   "id": "fd0e1ab8",
   "metadata": {},
   "outputs": [],
   "source": [
    "df = pd.read_csv(\"Health_Supplements.csv\")"
   ]
  },
  {
   "cell_type": "code",
   "execution_count": 3,
   "id": "772ab8ac",
   "metadata": {},
   "outputs": [
    {
     "data": {
      "text/html": [
       "<div>\n",
       "<style scoped>\n",
       "    .dataframe tbody tr th:only-of-type {\n",
       "        vertical-align: middle;\n",
       "    }\n",
       "\n",
       "    .dataframe tbody tr th {\n",
       "        vertical-align: top;\n",
       "    }\n",
       "\n",
       "    .dataframe thead th {\n",
       "        text-align: right;\n",
       "    }\n",
       "</style>\n",
       "<table border=\"1\" class=\"dataframe\">\n",
       "  <thead>\n",
       "    <tr style=\"text-align: right;\">\n",
       "      <th></th>\n",
       "      <th>Unnamed: 0</th>\n",
       "      <th>Company</th>\n",
       "      <th>Product</th>\n",
       "      <th>Rating</th>\n",
       "      <th>Rating Counts</th>\n",
       "      <th>Price</th>\n",
       "      <th>Product Link</th>\n",
       "      <th>WebSite</th>\n",
       "      <th>Type of supplement</th>\n",
       "      <th>Num Quantity</th>\n",
       "      <th>Units Values</th>\n",
       "      <th>Category</th>\n",
       "      <th>Consumer</th>\n",
       "      <th>Flavour</th>\n",
       "      <th>Amount</th>\n",
       "      <th>Per Unit Price</th>\n",
       "      <th>Vegetarian</th>\n",
       "    </tr>\n",
       "  </thead>\n",
       "  <tbody>\n",
       "    <tr>\n",
       "      <th>0</th>\n",
       "      <td>0</td>\n",
       "      <td>Six Star</td>\n",
       "      <td>Six Star 100% Creatine</td>\n",
       "      <td>4.5</td>\n",
       "      <td>11</td>\n",
       "      <td>22.99</td>\n",
       "      <td>https://walgreens.com/store/c/six-star-100-cre...</td>\n",
       "      <td>Walgreens</td>\n",
       "      <td>Creatine</td>\n",
       "      <td>10.58</td>\n",
       "      <td>NaN</td>\n",
       "      <td>general</td>\n",
       "      <td>general</td>\n",
       "      <td>general</td>\n",
       "      <td>NaN</td>\n",
       "      <td>2.17</td>\n",
       "      <td>general</td>\n",
       "    </tr>\n",
       "    <tr>\n",
       "      <th>1</th>\n",
       "      <td>1</td>\n",
       "      <td>Six Star</td>\n",
       "      <td>Six Star Creatine X3, Powder</td>\n",
       "      <td>4.5</td>\n",
       "      <td>72</td>\n",
       "      <td>29.99</td>\n",
       "      <td>https://walgreens.com/store/c/six-star-creatin...</td>\n",
       "      <td>Walgreens</td>\n",
       "      <td>Creatine</td>\n",
       "      <td>2.18</td>\n",
       "      <td>NaN</td>\n",
       "      <td>general</td>\n",
       "      <td>general</td>\n",
       "      <td>general</td>\n",
       "      <td>NaN</td>\n",
       "      <td>0.86</td>\n",
       "      <td>general</td>\n",
       "    </tr>\n",
       "    <tr>\n",
       "      <th>2</th>\n",
       "      <td>2</td>\n",
       "      <td>Walgreens</td>\n",
       "      <td>Walgreens Whey Protein Powder with Creatine &amp; ...</td>\n",
       "      <td>5.0</td>\n",
       "      <td>2</td>\n",
       "      <td>5.00</td>\n",
       "      <td>https://walgreens.com/store/c/walgreens-whey-p...</td>\n",
       "      <td>Walgreens</td>\n",
       "      <td>Creatine</td>\n",
       "      <td>1.4</td>\n",
       "      <td>NaN</td>\n",
       "      <td>general</td>\n",
       "      <td>general</td>\n",
       "      <td>chocolate</td>\n",
       "      <td>NaN</td>\n",
       "      <td>5</td>\n",
       "      <td>general</td>\n",
       "    </tr>\n",
       "    <tr>\n",
       "      <th>3</th>\n",
       "      <td>3</td>\n",
       "      <td>Walgreens</td>\n",
       "      <td>Walgreens Women's Multivitamin Gummies Natural...</td>\n",
       "      <td>4.0</td>\n",
       "      <td>58</td>\n",
       "      <td>13.99</td>\n",
       "      <td>https://walgreens.com/store/c/walgreens-women'...</td>\n",
       "      <td>Walgreens</td>\n",
       "      <td>Multivitamins</td>\n",
       "      <td>150</td>\n",
       "      <td>Tablets</td>\n",
       "      <td>whole_food_multivitamins</td>\n",
       "      <td>general</td>\n",
       "      <td>berry</td>\n",
       "      <td>150</td>\n",
       "      <td>0.09</td>\n",
       "      <td>general</td>\n",
       "    </tr>\n",
       "    <tr>\n",
       "      <th>4</th>\n",
       "      <td>4</td>\n",
       "      <td>Walgreens</td>\n",
       "      <td>Walgreens Adult Multivitamin Tablets</td>\n",
       "      <td>4.5</td>\n",
       "      <td>49</td>\n",
       "      <td>14.99</td>\n",
       "      <td>https://walgreens.com/store/c/walgreens-adult-...</td>\n",
       "      <td>Walgreens</td>\n",
       "      <td>Multivitamins</td>\n",
       "      <td>200</td>\n",
       "      <td>Tablets</td>\n",
       "      <td>age_specific_multivitamins</td>\n",
       "      <td>general</td>\n",
       "      <td>general</td>\n",
       "      <td>200</td>\n",
       "      <td>0.07</td>\n",
       "      <td>general</td>\n",
       "    </tr>\n",
       "  </tbody>\n",
       "</table>\n",
       "</div>"
      ],
      "text/plain": [
       "   Unnamed: 0    Company                                            Product  \\\n",
       "0           0   Six Star                             Six Star 100% Creatine   \n",
       "1           1   Six Star                       Six Star Creatine X3, Powder   \n",
       "2           2  Walgreens  Walgreens Whey Protein Powder with Creatine & ...   \n",
       "3           3  Walgreens  Walgreens Women's Multivitamin Gummies Natural...   \n",
       "4           4  Walgreens               Walgreens Adult Multivitamin Tablets   \n",
       "\n",
       "   Rating  Rating Counts  Price  \\\n",
       "0     4.5             11  22.99   \n",
       "1     4.5             72  29.99   \n",
       "2     5.0              2   5.00   \n",
       "3     4.0             58  13.99   \n",
       "4     4.5             49  14.99   \n",
       "\n",
       "                                        Product Link    WebSite  \\\n",
       "0  https://walgreens.com/store/c/six-star-100-cre...  Walgreens   \n",
       "1  https://walgreens.com/store/c/six-star-creatin...  Walgreens   \n",
       "2  https://walgreens.com/store/c/walgreens-whey-p...  Walgreens   \n",
       "3  https://walgreens.com/store/c/walgreens-women'...  Walgreens   \n",
       "4  https://walgreens.com/store/c/walgreens-adult-...  Walgreens   \n",
       "\n",
       "  Type of supplement Num Quantity Units Values                    Category  \\\n",
       "0           Creatine        10.58          NaN                     general   \n",
       "1           Creatine         2.18          NaN                     general   \n",
       "2           Creatine          1.4          NaN                     general   \n",
       "3      Multivitamins          150      Tablets    whole_food_multivitamins   \n",
       "4      Multivitamins          200      Tablets  age_specific_multivitamins   \n",
       "\n",
       "  Consumer    Flavour Amount Per Unit Price Vegetarian  \n",
       "0  general    general    NaN           2.17    general  \n",
       "1  general    general    NaN           0.86    general  \n",
       "2  general  chocolate    NaN              5    general  \n",
       "3  general      berry    150           0.09    general  \n",
       "4  general    general    200           0.07    general  "
      ]
     },
     "execution_count": 3,
     "metadata": {},
     "output_type": "execute_result"
    }
   ],
   "source": [
    "df.head()"
   ]
  },
  {
   "cell_type": "code",
   "execution_count": 4,
   "id": "a62724ad",
   "metadata": {},
   "outputs": [
    {
     "name": "stdout",
     "output_type": "stream",
     "text": [
      "<class 'pandas.core.frame.DataFrame'>\n",
      "RangeIndex: 18668 entries, 0 to 18667\n",
      "Data columns (total 17 columns):\n",
      " #   Column              Non-Null Count  Dtype  \n",
      "---  ------              --------------  -----  \n",
      " 0   Unnamed: 0          18668 non-null  int64  \n",
      " 1   Company             18668 non-null  object \n",
      " 2   Product             18668 non-null  object \n",
      " 3   Rating              18668 non-null  float64\n",
      " 4   Rating Counts       18668 non-null  int64  \n",
      " 5   Price               18668 non-null  float64\n",
      " 6   Product Link        18668 non-null  object \n",
      " 7   WebSite             18668 non-null  object \n",
      " 8   Type of supplement  18668 non-null  object \n",
      " 9   Num Quantity        18629 non-null  object \n",
      " 10  Units Values        18659 non-null  object \n",
      " 11  Category            18355 non-null  object \n",
      " 12  Consumer            18668 non-null  object \n",
      " 13  Flavour             18668 non-null  object \n",
      " 14  Amount              18659 non-null  object \n",
      " 15  Per Unit Price      18668 non-null  object \n",
      " 16  Vegetarian          18668 non-null  object \n",
      "dtypes: float64(2), int64(2), object(13)\n",
      "memory usage: 2.4+ MB\n"
     ]
    }
   ],
   "source": [
    "df.info()"
   ]
  },
  {
   "cell_type": "code",
   "execution_count": 5,
   "id": "ea62422b",
   "metadata": {},
   "outputs": [
    {
     "data": {
      "text/plain": [
       "Unnamed: 0              0\n",
       "Company                 0\n",
       "Product                 0\n",
       "Rating                  0\n",
       "Rating Counts           0\n",
       "Price                   0\n",
       "Product Link            0\n",
       "WebSite                 0\n",
       "Type of supplement      0\n",
       "Num Quantity           39\n",
       "Units Values            9\n",
       "Category              313\n",
       "Consumer                0\n",
       "Flavour                 0\n",
       "Amount                  9\n",
       "Per Unit Price          0\n",
       "Vegetarian              0\n",
       "dtype: int64"
      ]
     },
     "execution_count": 5,
     "metadata": {},
     "output_type": "execute_result"
    }
   ],
   "source": [
    "df.isnull().sum()"
   ]
  },
  {
   "cell_type": "code",
   "execution_count": 6,
   "id": "0bbaf8c9",
   "metadata": {},
   "outputs": [],
   "source": [
    "df['Category'] = df['Category'].fillna('general')"
   ]
  },
  {
   "cell_type": "code",
   "execution_count": 7,
   "id": "f620c1df",
   "metadata": {},
   "outputs": [
    {
     "data": {
      "text/plain": [
       "Unnamed: 0             0\n",
       "Company                0\n",
       "Product                0\n",
       "Rating                 0\n",
       "Rating Counts          0\n",
       "Price                  0\n",
       "Product Link           0\n",
       "WebSite                0\n",
       "Type of supplement     0\n",
       "Num Quantity          39\n",
       "Units Values           9\n",
       "Category               0\n",
       "Consumer               0\n",
       "Flavour                0\n",
       "Amount                 9\n",
       "Per Unit Price         0\n",
       "Vegetarian             0\n",
       "dtype: int64"
      ]
     },
     "execution_count": 7,
     "metadata": {},
     "output_type": "execute_result"
    }
   ],
   "source": [
    "df.isnull().sum()"
   ]
  },
  {
   "cell_type": "code",
   "execution_count": 8,
   "id": "764d230b",
   "metadata": {},
   "outputs": [],
   "source": [
    "clust_df = df[df['Type of supplement'] == 'Multivitamins']"
   ]
  },
  {
   "cell_type": "code",
   "execution_count": 9,
   "id": "e9ef8623",
   "metadata": {},
   "outputs": [
    {
     "data": {
      "text/html": [
       "<div>\n",
       "<style scoped>\n",
       "    .dataframe tbody tr th:only-of-type {\n",
       "        vertical-align: middle;\n",
       "    }\n",
       "\n",
       "    .dataframe tbody tr th {\n",
       "        vertical-align: top;\n",
       "    }\n",
       "\n",
       "    .dataframe thead th {\n",
       "        text-align: right;\n",
       "    }\n",
       "</style>\n",
       "<table border=\"1\" class=\"dataframe\">\n",
       "  <thead>\n",
       "    <tr style=\"text-align: right;\">\n",
       "      <th></th>\n",
       "      <th>Unnamed: 0</th>\n",
       "      <th>Company</th>\n",
       "      <th>Product</th>\n",
       "      <th>Rating</th>\n",
       "      <th>Rating Counts</th>\n",
       "      <th>Price</th>\n",
       "      <th>Product Link</th>\n",
       "      <th>WebSite</th>\n",
       "      <th>Type of supplement</th>\n",
       "      <th>Num Quantity</th>\n",
       "      <th>Units Values</th>\n",
       "      <th>Category</th>\n",
       "      <th>Consumer</th>\n",
       "      <th>Flavour</th>\n",
       "      <th>Amount</th>\n",
       "      <th>Per Unit Price</th>\n",
       "      <th>Vegetarian</th>\n",
       "    </tr>\n",
       "  </thead>\n",
       "  <tbody>\n",
       "    <tr>\n",
       "      <th>3</th>\n",
       "      <td>3</td>\n",
       "      <td>Walgreens</td>\n",
       "      <td>Walgreens Women's Multivitamin Gummies Natural...</td>\n",
       "      <td>4.0</td>\n",
       "      <td>58</td>\n",
       "      <td>13.99</td>\n",
       "      <td>https://walgreens.com/store/c/walgreens-women'...</td>\n",
       "      <td>Walgreens</td>\n",
       "      <td>Multivitamins</td>\n",
       "      <td>150</td>\n",
       "      <td>Tablets</td>\n",
       "      <td>whole_food_multivitamins</td>\n",
       "      <td>general</td>\n",
       "      <td>berry</td>\n",
       "      <td>150</td>\n",
       "      <td>0.09</td>\n",
       "      <td>general</td>\n",
       "    </tr>\n",
       "    <tr>\n",
       "      <th>4</th>\n",
       "      <td>4</td>\n",
       "      <td>Walgreens</td>\n",
       "      <td>Walgreens Adult Multivitamin Tablets</td>\n",
       "      <td>4.5</td>\n",
       "      <td>49</td>\n",
       "      <td>14.99</td>\n",
       "      <td>https://walgreens.com/store/c/walgreens-adult-...</td>\n",
       "      <td>Walgreens</td>\n",
       "      <td>Multivitamins</td>\n",
       "      <td>200</td>\n",
       "      <td>Tablets</td>\n",
       "      <td>age_specific_multivitamins</td>\n",
       "      <td>general</td>\n",
       "      <td>general</td>\n",
       "      <td>200</td>\n",
       "      <td>0.07</td>\n",
       "      <td>general</td>\n",
       "    </tr>\n",
       "    <tr>\n",
       "      <th>5</th>\n",
       "      <td>5</td>\n",
       "      <td>Walgreens</td>\n",
       "      <td>Walgreens Men 50+ Multivitamin Tablets, Gluten...</td>\n",
       "      <td>4.5</td>\n",
       "      <td>84</td>\n",
       "      <td>15.99</td>\n",
       "      <td>https://walgreens.com/store/c/walgreens-men-50...</td>\n",
       "      <td>Walgreens</td>\n",
       "      <td>Multivitamins</td>\n",
       "      <td>200</td>\n",
       "      <td>Tablets</td>\n",
       "      <td>general</td>\n",
       "      <td>Men</td>\n",
       "      <td>general</td>\n",
       "      <td>200</td>\n",
       "      <td>0.08</td>\n",
       "      <td>general</td>\n",
       "    </tr>\n",
       "    <tr>\n",
       "      <th>6</th>\n",
       "      <td>6</td>\n",
       "      <td>Nature Made</td>\n",
       "      <td>Nature Made Multivitamin For Her Tablets</td>\n",
       "      <td>4.6</td>\n",
       "      <td>143</td>\n",
       "      <td>13.99</td>\n",
       "      <td>https://walgreens.com/store/c/nature-made-mult...</td>\n",
       "      <td>Walgreens</td>\n",
       "      <td>Multivitamins</td>\n",
       "      <td>90</td>\n",
       "      <td>Tablets</td>\n",
       "      <td>general</td>\n",
       "      <td>general</td>\n",
       "      <td>general</td>\n",
       "      <td>90</td>\n",
       "      <td>0.16</td>\n",
       "      <td>general</td>\n",
       "    </tr>\n",
       "    <tr>\n",
       "      <th>7</th>\n",
       "      <td>7</td>\n",
       "      <td>Nature Made</td>\n",
       "      <td>Nature Made Multivitamin For Her Tablets</td>\n",
       "      <td>4.5</td>\n",
       "      <td>143</td>\n",
       "      <td>13.99</td>\n",
       "      <td>https://walgreens.com/store/c/nature-made-mult...</td>\n",
       "      <td>Walgreens</td>\n",
       "      <td>Multivitamins</td>\n",
       "      <td>90</td>\n",
       "      <td>Tablets</td>\n",
       "      <td>general</td>\n",
       "      <td>general</td>\n",
       "      <td>general</td>\n",
       "      <td>90</td>\n",
       "      <td>0.16</td>\n",
       "      <td>general</td>\n",
       "    </tr>\n",
       "  </tbody>\n",
       "</table>\n",
       "</div>"
      ],
      "text/plain": [
       "   Unnamed: 0      Company                                            Product  \\\n",
       "3           3    Walgreens  Walgreens Women's Multivitamin Gummies Natural...   \n",
       "4           4    Walgreens               Walgreens Adult Multivitamin Tablets   \n",
       "5           5    Walgreens  Walgreens Men 50+ Multivitamin Tablets, Gluten...   \n",
       "6           6  Nature Made           Nature Made Multivitamin For Her Tablets   \n",
       "7           7  Nature Made           Nature Made Multivitamin For Her Tablets   \n",
       "\n",
       "   Rating  Rating Counts  Price  \\\n",
       "3     4.0             58  13.99   \n",
       "4     4.5             49  14.99   \n",
       "5     4.5             84  15.99   \n",
       "6     4.6            143  13.99   \n",
       "7     4.5            143  13.99   \n",
       "\n",
       "                                        Product Link    WebSite  \\\n",
       "3  https://walgreens.com/store/c/walgreens-women'...  Walgreens   \n",
       "4  https://walgreens.com/store/c/walgreens-adult-...  Walgreens   \n",
       "5  https://walgreens.com/store/c/walgreens-men-50...  Walgreens   \n",
       "6  https://walgreens.com/store/c/nature-made-mult...  Walgreens   \n",
       "7  https://walgreens.com/store/c/nature-made-mult...  Walgreens   \n",
       "\n",
       "  Type of supplement Num Quantity Units Values                    Category  \\\n",
       "3      Multivitamins          150      Tablets    whole_food_multivitamins   \n",
       "4      Multivitamins          200      Tablets  age_specific_multivitamins   \n",
       "5      Multivitamins          200      Tablets                     general   \n",
       "6      Multivitamins           90      Tablets                     general   \n",
       "7      Multivitamins           90      Tablets                     general   \n",
       "\n",
       "  Consumer  Flavour Amount Per Unit Price Vegetarian  \n",
       "3  general    berry    150           0.09    general  \n",
       "4  general  general    200           0.07    general  \n",
       "5      Men  general    200           0.08    general  \n",
       "6  general  general     90           0.16    general  \n",
       "7  general  general     90           0.16    general  "
      ]
     },
     "execution_count": 9,
     "metadata": {},
     "output_type": "execute_result"
    }
   ],
   "source": [
    "clust_df.head()"
   ]
  },
  {
   "cell_type": "code",
   "execution_count": 10,
   "id": "42fcea94",
   "metadata": {},
   "outputs": [],
   "source": [
    "req = ['Company', 'WebSite', 'Price', 'Rating']\n",
    "\n",
    "clust = clust_df[req]"
   ]
  },
  {
   "cell_type": "code",
   "execution_count": 11,
   "id": "1e34a0e7",
   "metadata": {},
   "outputs": [
    {
     "data": {
      "text/html": [
       "<div>\n",
       "<style scoped>\n",
       "    .dataframe tbody tr th:only-of-type {\n",
       "        vertical-align: middle;\n",
       "    }\n",
       "\n",
       "    .dataframe tbody tr th {\n",
       "        vertical-align: top;\n",
       "    }\n",
       "\n",
       "    .dataframe thead th {\n",
       "        text-align: right;\n",
       "    }\n",
       "</style>\n",
       "<table border=\"1\" class=\"dataframe\">\n",
       "  <thead>\n",
       "    <tr style=\"text-align: right;\">\n",
       "      <th></th>\n",
       "      <th>Company</th>\n",
       "      <th>WebSite</th>\n",
       "      <th>Price</th>\n",
       "      <th>Rating</th>\n",
       "    </tr>\n",
       "  </thead>\n",
       "  <tbody>\n",
       "    <tr>\n",
       "      <th>3</th>\n",
       "      <td>Walgreens</td>\n",
       "      <td>Walgreens</td>\n",
       "      <td>13.99</td>\n",
       "      <td>4.0</td>\n",
       "    </tr>\n",
       "    <tr>\n",
       "      <th>4</th>\n",
       "      <td>Walgreens</td>\n",
       "      <td>Walgreens</td>\n",
       "      <td>14.99</td>\n",
       "      <td>4.5</td>\n",
       "    </tr>\n",
       "    <tr>\n",
       "      <th>5</th>\n",
       "      <td>Walgreens</td>\n",
       "      <td>Walgreens</td>\n",
       "      <td>15.99</td>\n",
       "      <td>4.5</td>\n",
       "    </tr>\n",
       "    <tr>\n",
       "      <th>6</th>\n",
       "      <td>Nature Made</td>\n",
       "      <td>Walgreens</td>\n",
       "      <td>13.99</td>\n",
       "      <td>4.6</td>\n",
       "    </tr>\n",
       "    <tr>\n",
       "      <th>7</th>\n",
       "      <td>Nature Made</td>\n",
       "      <td>Walgreens</td>\n",
       "      <td>13.99</td>\n",
       "      <td>4.5</td>\n",
       "    </tr>\n",
       "  </tbody>\n",
       "</table>\n",
       "</div>"
      ],
      "text/plain": [
       "       Company    WebSite  Price  Rating\n",
       "3    Walgreens  Walgreens  13.99     4.0\n",
       "4    Walgreens  Walgreens  14.99     4.5\n",
       "5    Walgreens  Walgreens  15.99     4.5\n",
       "6  Nature Made  Walgreens  13.99     4.6\n",
       "7  Nature Made  Walgreens  13.99     4.5"
      ]
     },
     "execution_count": 11,
     "metadata": {},
     "output_type": "execute_result"
    }
   ],
   "source": [
    "clust.head()"
   ]
  },
  {
   "cell_type": "code",
   "execution_count": 12,
   "id": "36100395",
   "metadata": {},
   "outputs": [
    {
     "name": "stderr",
     "output_type": "stream",
     "text": [
      "C:\\Users\\saish\\AppData\\Local\\Temp\\ipykernel_14108\\1310590110.py:3: SettingWithCopyWarning: \n",
      "A value is trying to be set on a copy of a slice from a DataFrame.\n",
      "Try using .loc[row_indexer,col_indexer] = value instead\n",
      "\n",
      "See the caveats in the documentation: https://pandas.pydata.org/pandas-docs/stable/user_guide/indexing.html#returning-a-view-versus-a-copy\n",
      "  clust['Company'] = le.fit_transform(clust['Company'])\n",
      "C:\\Users\\saish\\AppData\\Local\\Temp\\ipykernel_14108\\1310590110.py:4: SettingWithCopyWarning: \n",
      "A value is trying to be set on a copy of a slice from a DataFrame.\n",
      "Try using .loc[row_indexer,col_indexer] = value instead\n",
      "\n",
      "See the caveats in the documentation: https://pandas.pydata.org/pandas-docs/stable/user_guide/indexing.html#returning-a-view-versus-a-copy\n",
      "  clust['WebSite'] = le.fit_transform(clust['WebSite'])\n"
     ]
    }
   ],
   "source": [
    "from sklearn import preprocessing\n",
    "le = preprocessing.LabelEncoder()\n",
    "clust['Company'] = le.fit_transform(clust['Company'])\n",
    "clust['WebSite'] = le.fit_transform(clust['WebSite'])"
   ]
  },
  {
   "cell_type": "code",
   "execution_count": 13,
   "id": "5789527a",
   "metadata": {},
   "outputs": [
    {
     "data": {
      "text/html": [
       "<div>\n",
       "<style scoped>\n",
       "    .dataframe tbody tr th:only-of-type {\n",
       "        vertical-align: middle;\n",
       "    }\n",
       "\n",
       "    .dataframe tbody tr th {\n",
       "        vertical-align: top;\n",
       "    }\n",
       "\n",
       "    .dataframe thead th {\n",
       "        text-align: right;\n",
       "    }\n",
       "</style>\n",
       "<table border=\"1\" class=\"dataframe\">\n",
       "  <thead>\n",
       "    <tr style=\"text-align: right;\">\n",
       "      <th></th>\n",
       "      <th>Company</th>\n",
       "      <th>WebSite</th>\n",
       "      <th>Price</th>\n",
       "      <th>Rating</th>\n",
       "    </tr>\n",
       "  </thead>\n",
       "  <tbody>\n",
       "    <tr>\n",
       "      <th>3</th>\n",
       "      <td>191</td>\n",
       "      <td>0</td>\n",
       "      <td>13.99</td>\n",
       "      <td>4.0</td>\n",
       "    </tr>\n",
       "    <tr>\n",
       "      <th>4</th>\n",
       "      <td>191</td>\n",
       "      <td>0</td>\n",
       "      <td>14.99</td>\n",
       "      <td>4.5</td>\n",
       "    </tr>\n",
       "    <tr>\n",
       "      <th>5</th>\n",
       "      <td>191</td>\n",
       "      <td>0</td>\n",
       "      <td>15.99</td>\n",
       "      <td>4.5</td>\n",
       "    </tr>\n",
       "    <tr>\n",
       "      <th>6</th>\n",
       "      <td>110</td>\n",
       "      <td>0</td>\n",
       "      <td>13.99</td>\n",
       "      <td>4.6</td>\n",
       "    </tr>\n",
       "    <tr>\n",
       "      <th>7</th>\n",
       "      <td>110</td>\n",
       "      <td>0</td>\n",
       "      <td>13.99</td>\n",
       "      <td>4.5</td>\n",
       "    </tr>\n",
       "  </tbody>\n",
       "</table>\n",
       "</div>"
      ],
      "text/plain": [
       "   Company  WebSite  Price  Rating\n",
       "3      191        0  13.99     4.0\n",
       "4      191        0  14.99     4.5\n",
       "5      191        0  15.99     4.5\n",
       "6      110        0  13.99     4.6\n",
       "7      110        0  13.99     4.5"
      ]
     },
     "execution_count": 13,
     "metadata": {},
     "output_type": "execute_result"
    }
   ],
   "source": [
    "clust.head()"
   ]
  },
  {
   "cell_type": "code",
   "execution_count": 14,
   "id": "6628f1e0",
   "metadata": {},
   "outputs": [],
   "source": [
    "import sklearn\n",
    "from sklearn.preprocessing import StandardScaler\n",
    "from sklearn.cluster import KMeans\n",
    "from sklearn.metrics import silhouette_score"
   ]
  },
  {
   "cell_type": "code",
   "execution_count": 15,
   "id": "54746d6e",
   "metadata": {},
   "outputs": [],
   "source": [
    "scaler = StandardScaler()\n",
    "\n",
    "clust_f = scaler.fit_transform(clust)"
   ]
  },
  {
   "cell_type": "code",
   "execution_count": 16,
   "id": "1be31fc7",
   "metadata": {},
   "outputs": [
    {
     "data": {
      "text/plain": [
       "(4081, 4)"
      ]
     },
     "execution_count": 16,
     "metadata": {},
     "output_type": "execute_result"
    }
   ],
   "source": [
    "clust_f.shape"
   ]
  },
  {
   "cell_type": "code",
   "execution_count": 17,
   "id": "dca01159",
   "metadata": {},
   "outputs": [
    {
     "name": "stderr",
     "output_type": "stream",
     "text": [
      "c:\\Users\\saish\\Documents\\Health-Supplements-Recommendation-System\\.venv\\lib\\site-packages\\sklearn\\cluster\\_kmeans.py:1412: FutureWarning: The default value of `n_init` will change from 10 to 'auto' in 1.4. Set the value of `n_init` explicitly to suppress the warning\n",
      "  super()._check_params_vs_input(X, default_n_init=10)\n",
      "c:\\Users\\saish\\Documents\\Health-Supplements-Recommendation-System\\.venv\\lib\\site-packages\\sklearn\\cluster\\_kmeans.py:1412: FutureWarning: The default value of `n_init` will change from 10 to 'auto' in 1.4. Set the value of `n_init` explicitly to suppress the warning\n",
      "  super()._check_params_vs_input(X, default_n_init=10)\n",
      "c:\\Users\\saish\\Documents\\Health-Supplements-Recommendation-System\\.venv\\lib\\site-packages\\sklearn\\cluster\\_kmeans.py:1412: FutureWarning: The default value of `n_init` will change from 10 to 'auto' in 1.4. Set the value of `n_init` explicitly to suppress the warning\n",
      "  super()._check_params_vs_input(X, default_n_init=10)\n",
      "c:\\Users\\saish\\Documents\\Health-Supplements-Recommendation-System\\.venv\\lib\\site-packages\\sklearn\\cluster\\_kmeans.py:1412: FutureWarning: The default value of `n_init` will change from 10 to 'auto' in 1.4. Set the value of `n_init` explicitly to suppress the warning\n",
      "  super()._check_params_vs_input(X, default_n_init=10)\n",
      "c:\\Users\\saish\\Documents\\Health-Supplements-Recommendation-System\\.venv\\lib\\site-packages\\sklearn\\cluster\\_kmeans.py:1412: FutureWarning: The default value of `n_init` will change from 10 to 'auto' in 1.4. Set the value of `n_init` explicitly to suppress the warning\n",
      "  super()._check_params_vs_input(X, default_n_init=10)\n",
      "c:\\Users\\saish\\Documents\\Health-Supplements-Recommendation-System\\.venv\\lib\\site-packages\\sklearn\\cluster\\_kmeans.py:1412: FutureWarning: The default value of `n_init` will change from 10 to 'auto' in 1.4. Set the value of `n_init` explicitly to suppress the warning\n",
      "  super()._check_params_vs_input(X, default_n_init=10)\n",
      "c:\\Users\\saish\\Documents\\Health-Supplements-Recommendation-System\\.venv\\lib\\site-packages\\sklearn\\cluster\\_kmeans.py:1412: FutureWarning: The default value of `n_init` will change from 10 to 'auto' in 1.4. Set the value of `n_init` explicitly to suppress the warning\n",
      "  super()._check_params_vs_input(X, default_n_init=10)\n"
     ]
    },
    {
     "data": {
      "text/plain": [
       "[<matplotlib.lines.Line2D at 0x1514bba5cf0>]"
      ]
     },
     "execution_count": 17,
     "metadata": {},
     "output_type": "execute_result"
    },
    {
     "data": {
      "image/png": "[encoded data removed]",
      "text/plain": [
       "<Figure size 640x480 with 1 Axes>"
      ]
     },
     "metadata": {},
     "output_type": "display_data"
    }
   ],
   "source": [
    "#Elbow Method\n",
    "ssd = []\n",
    "range_n_clusters = [2, 3, 4, 5, 6, 7, 8]\n",
    "for num_clusters in range_n_clusters:\n",
    "    kmeans = KMeans(n_clusters=num_clusters, max_iter=50)\n",
    "    kmeans.fit(clust_f)\n",
    "    \n",
    "    ssd.append(kmeans.inertia_)\n",
    "    \n",
    "# plot the SSDs for each n_clusters\n",
    "plt.plot(ssd)"
   ]
  },
  {
   "cell_type": "code",
   "execution_count": 18,
   "id": "89028d41",
   "metadata": {},
   "outputs": [
    {
     "name": "stderr",
     "output_type": "stream",
     "text": [
      "c:\\Users\\saish\\Documents\\Health-Supplements-Recommendation-System\\.venv\\lib\\site-packages\\sklearn\\cluster\\_kmeans.py:1412: FutureWarning: The default value of `n_init` will change from 10 to 'auto' in 1.4. Set the value of `n_init` explicitly to suppress the warning\n",
      "  super()._check_params_vs_input(X, default_n_init=10)\n"
     ]
    },
    {
     "name": "stdout",
     "output_type": "stream",
     "text": [
      "For n_clusters=2, the silhouette score is 0.4339832969433178\n"
     ]
    },
    {
     "name": "stderr",
     "output_type": "stream",
     "text": [
      "c:\\Users\\saish\\Documents\\Health-Supplements-Recommendation-System\\.venv\\lib\\site-packages\\sklearn\\cluster\\_kmeans.py:1412: FutureWarning: The default value of `n_init` will change from 10 to 'auto' in 1.4. Set the value of `n_init` explicitly to suppress the warning\n",
      "  super()._check_params_vs_input(X, default_n_init=10)\n"
     ]
    },
    {
     "name": "stdout",
     "output_type": "stream",
     "text": [
      "For n_clusters=3, the silhouette score is 0.44078560809044093\n"
     ]
    },
    {
     "name": "stderr",
     "output_type": "stream",
     "text": [
      "c:\\Users\\saish\\Documents\\Health-Supplements-Recommendation-System\\.venv\\lib\\site-packages\\sklearn\\cluster\\_kmeans.py:1412: FutureWarning: The default value of `n_init` will change from 10 to 'auto' in 1.4. Set the value of `n_init` explicitly to suppress the warning\n",
      "  super()._check_params_vs_input(X, default_n_init=10)\n"
     ]
    },
    {
     "name": "stdout",
     "output_type": "stream",
     "text": [
      "For n_clusters=4, the silhouette score is 0.40840100112338\n"
     ]
    },
    {
     "name": "stderr",
     "output_type": "stream",
     "text": [
      "c:\\Users\\saish\\Documents\\Health-Supplements-Recommendation-System\\.venv\\lib\\site-packages\\sklearn\\cluster\\_kmeans.py:1412: FutureWarning: The default value of `n_init` will change from 10 to 'auto' in 1.4. Set the value of `n_init` explicitly to suppress the warning\n",
      "  super()._check_params_vs_input(X, default_n_init=10)\n"
     ]
    },
    {
     "name": "stdout",
     "output_type": "stream",
     "text": [
      "For n_clusters=5, the silhouette score is 0.4149913053876908\n"
     ]
    },
    {
     "name": "stderr",
     "output_type": "stream",
     "text": [
      "c:\\Users\\saish\\Documents\\Health-Supplements-Recommendation-System\\.venv\\lib\\site-packages\\sklearn\\cluster\\_kmeans.py:1412: FutureWarning: The default value of `n_init` will change from 10 to 'auto' in 1.4. Set the value of `n_init` explicitly to suppress the warning\n",
      "  super()._check_params_vs_input(X, default_n_init=10)\n"
     ]
    },
    {
     "name": "stdout",
     "output_type": "stream",
     "text": [
      "For n_clusters=6, the silhouette score is 0.4351562730772865\n"
     ]
    },
    {
     "name": "stderr",
     "output_type": "stream",
     "text": [
      "c:\\Users\\saish\\Documents\\Health-Supplements-Recommendation-System\\.venv\\lib\\site-packages\\sklearn\\cluster\\_kmeans.py:1412: FutureWarning: The default value of `n_init` will change from 10 to 'auto' in 1.4. Set the value of `n_init` explicitly to suppress the warning\n",
      "  super()._check_params_vs_input(X, default_n_init=10)\n"
     ]
    },
    {
     "name": "stdout",
     "output_type": "stream",
     "text": [
      "For n_clusters=7, the silhouette score is 0.40762893121101645\n"
     ]
    },
    {
     "name": "stderr",
     "output_type": "stream",
     "text": [
      "c:\\Users\\saish\\Documents\\Health-Supplements-Recommendation-System\\.venv\\lib\\site-packages\\sklearn\\cluster\\_kmeans.py:1412: FutureWarning: The default value of `n_init` will change from 10 to 'auto' in 1.4. Set the value of `n_init` explicitly to suppress the warning\n",
      "  super()._check_params_vs_input(X, default_n_init=10)\n"
     ]
    },
    {
     "name": "stdout",
     "output_type": "stream",
     "text": [
      "For n_clusters=8, the silhouette score is 0.3920241870987065\n"
     ]
    }
   ],
   "source": [
    "# Silhouette analysis\n",
    "range_n_clusters = [2, 3, 4, 5, 6, 7, 8]\n",
    "\n",
    "for num_clusters in range_n_clusters:\n",
    "    \n",
    "    # intialise kmeans\n",
    "    kmeans = KMeans(n_clusters=num_clusters, max_iter=50)\n",
    "    kmeans.fit(clust_f)\n",
    "    \n",
    "    cluster_labels = kmeans.labels_\n",
    "    \n",
    "    # silhouette score\n",
    "    silhouette_avg = silhouette_score(clust_f, cluster_labels)\n",
    "    print(\"For n_clusters={0}, the silhouette score is {1}\".format(num_clusters, silhouette_avg))"
   ]
  },
  {
   "cell_type": "code",
   "execution_count": 19,
   "id": "8f8f2c8f",
   "metadata": {},
   "outputs": [
    {
     "name": "stderr",
     "output_type": "stream",
     "text": [
      "c:\\Users\\saish\\Documents\\Health-Supplements-Recommendation-System\\.venv\\lib\\site-packages\\sklearn\\cluster\\_kmeans.py:1412: FutureWarning: The default value of `n_init` will change from 10 to 'auto' in 1.4. Set the value of `n_init` explicitly to suppress the warning\n",
      "  super()._check_params_vs_input(X, default_n_init=10)\n"
     ]
    },
    {
     "data": {
      "text/html": [
       "<style>#sk-container-id-1 {color: black;}#sk-container-id-1 pre{padding: 0;}#sk-container-id-1 div.sk-toggleable {background-color: white;}#sk-container-id-1 label.sk-toggleable__label {cursor: pointer;display: block;width: 100%;margin-bottom: 0;padding: 0.3em;box-sizing: border-box;text-align: center;}#sk-container-id-1 label.sk-toggleable__label-arrow:before {content: \"▸\";float: left;margin-right: 0.25em;color: #696969;}#sk-container-id-1 label.sk-toggleable__label-arrow:hover:before {color: black;}#sk-container-id-1 div.sk-estimator:hover label.sk-toggleable__label-arrow:before {color: black;}#sk-container-id-1 div.sk-toggleable__content {max-height: 0;max-width: 0;overflow: hidden;text-align: left;background-color: #f0f8ff;}#sk-container-id-1 div.sk-toggleable__content pre {margin: 0.2em;color: black;border-radius: 0.25em;background-color: #f0f8ff;}#sk-container-id-1 input.sk-toggleable__control:checked~div.sk-toggleable__content {max-height: 200px;max-width: 100%;overflow: auto;}#sk-container-id-1 input.sk-toggleable__control:checked~label.sk-toggleable__label-arrow:before {content: \"▾\";}#sk-container-id-1 div.sk-estimator input.sk-toggleable__control:checked~label.sk-toggleable__label {background-color: #d4ebff;}#sk-container-id-1 div.sk-label input.sk-toggleable__control:checked~label.sk-toggleable__label {background-color: #d4ebff;}#sk-container-id-1 input.sk-hidden--visually {border: 0;clip: rect(1px 1px 1px 1px);clip: rect(1px, 1px, 1px, 1px);height: 1px;margin: -1px;overflow: hidden;padding: 0;position: absolute;width: 1px;}#sk-container-id-1 div.sk-estimator {font-family: monospace;background-color: #f0f8ff;border: 1px dotted black;border-radius: 0.25em;box-sizing: border-box;margin-bottom: 0.5em;}#sk-container-id-1 div.sk-estimator:hover {background-color: #d4ebff;}#sk-container-id-1 div.sk-parallel-item::after {content: \"\";width: 100%;border-bottom: 1px solid gray;flex-grow: 1;}#sk-container-id-1 div.sk-label:hover label.sk-toggleable__label {background-color: #d4ebff;}#sk-container-id-1 div.sk-serial::before {content: \"\";position: absolute;border-left: 1px solid gray;box-sizing: border-box;top: 0;bottom: 0;left: 50%;z-index: 0;}#sk-container-id-1 div.sk-serial {display: flex;flex-direction: column;align-items: center;background-color: white;padding-right: 0.2em;padding-left: 0.2em;position: relative;}#sk-container-id-1 div.sk-item {position: relative;z-index: 1;}#sk-container-id-1 div.sk-parallel {display: flex;align-items: stretch;justify-content: center;background-color: white;position: relative;}#sk-container-id-1 div.sk-item::before, #sk-container-id-1 div.sk-parallel-item::before {content: \"\";position: absolute;border-left: 1px solid gray;box-sizing: border-box;top: 0;bottom: 0;left: 50%;z-index: -1;}#sk-container-id-1 div.sk-parallel-item {display: flex;flex-direction: column;z-index: 1;position: relative;background-color: white;}#sk-container-id-1 div.sk-parallel-item:first-child::after {align-self: flex-end;width: 50%;}#sk-container-id-1 div.sk-parallel-item:last-child::after {align-self: flex-start;width: 50%;}#sk-container-id-1 div.sk-parallel-item:only-child::after {width: 0;}#sk-container-id-1 div.sk-dashed-wrapped {border: 1px dashed gray;margin: 0 0.4em 0.5em 0.4em;box-sizing: border-box;padding-bottom: 0.4em;background-color: white;}#sk-container-id-1 div.sk-label label {font-family: monospace;font-weight: bold;display: inline-block;line-height: 1.2em;}#sk-container-id-1 div.sk-label-container {text-align: center;}#sk-container-id-1 div.sk-container {/* jupyter's `normalize.less` sets `[hidden] { display: none; }` but bootstrap.min.css set `[hidden] { display: none !important; }` so we also need the `!important` here to be able to override the default hidden behavior on the sphinx rendered scikit-learn.org. See: https://github.com/scikit-learn/scikit-learn/issues/21755 */display: inline-block !important;position: relative;}#sk-container-id-1 div.sk-text-repr-fallback {display: none;}</style><div id=\"sk-container-id-1\" class=\"sk-top-container\"><div class=\"sk-text-repr-fallback\"><pre>KMeans(n_clusters=4)</pre><b>In a Jupyter environment, please rerun this cell to show the HTML representation or trust the notebook. <br />On GitHub, the HTML representation is unable to render, please try loading this page with nbviewer.org.</b></div><div class=\"sk-container\" hidden><div class=\"sk-item\"><div class=\"sk-estimator sk-toggleable\"><input class=\"sk-toggleable__control sk-hidden--visually\" id=\"sk-estimator-id-1\" type=\"checkbox\" checked><label for=\"sk-estimator-id-1\" class=\"sk-toggleable__label sk-toggleable__label-arrow\">KMeans</label><div class=\"sk-toggleable__content\"><pre>KMeans(n_clusters=4)</pre></div></div></div></div></div>"
      ],
      "text/plain": [
       "KMeans(n_clusters=4)"
      ]
     },
     "execution_count": 19,
     "metadata": {},
     "output_type": "execute_result"
    }
   ],
   "source": [
    "k = 4  # Number of clusters\n",
    "kmeans = KMeans(n_clusters=k)\n",
    "kmeans.fit(clust_f)\n"
   ]
  },
  {
   "cell_type": "code",
   "execution_count": 20,
   "id": "6e591f8a",
   "metadata": {},
   "outputs": [
    {
     "data": {
      "text/plain": [
       "array([2, 2, 2, ..., 1, 1, 1])"
      ]
     },
     "execution_count": 20,
     "metadata": {},
     "output_type": "execute_result"
    }
   ],
   "source": [
    "kmeans.labels_"
   ]
  },
  {
   "cell_type": "code",
   "execution_count": 21,
   "id": "3d11d8da",
   "metadata": {},
   "outputs": [
    {
     "name": "stderr",
     "output_type": "stream",
     "text": [
      "C:\\Users\\saish\\AppData\\Local\\Temp\\ipykernel_14108\\1598933165.py:1: SettingWithCopyWarning: \n",
      "A value is trying to be set on a copy of a slice from a DataFrame.\n",
      "Try using .loc[row_indexer,col_indexer] = value instead\n",
      "\n",
      "See the caveats in the documentation: https://pandas.pydata.org/pandas-docs/stable/user_guide/indexing.html#returning-a-view-versus-a-copy\n",
      "  clust['Cluster_Id'] = kmeans.labels_\n"
     ]
    },
    {
     "data": {
      "text/html": [
       "<div>\n",
       "<style scoped>\n",
       "    .dataframe tbody tr th:only-of-type {\n",
       "        vertical-align: middle;\n",
       "    }\n",
       "\n",
       "    .dataframe tbody tr th {\n",
       "        vertical-align: top;\n",
       "    }\n",
       "\n",
       "    .dataframe thead th {\n",
       "        text-align: right;\n",
       "    }\n",
       "</style>\n",
       "<table border=\"1\" class=\"dataframe\">\n",
       "  <thead>\n",
       "    <tr style=\"text-align: right;\">\n",
       "      <th></th>\n",
       "      <th>Company</th>\n",
       "      <th>WebSite</th>\n",
       "      <th>Price</th>\n",
       "      <th>Rating</th>\n",
       "      <th>Cluster_Id</th>\n",
       "    </tr>\n",
       "  </thead>\n",
       "  <tbody>\n",
       "    <tr>\n",
       "      <th>3</th>\n",
       "      <td>191</td>\n",
       "      <td>0</td>\n",
       "      <td>13.99</td>\n",
       "      <td>4.0</td>\n",
       "      <td>2</td>\n",
       "    </tr>\n",
       "    <tr>\n",
       "      <th>4</th>\n",
       "      <td>191</td>\n",
       "      <td>0</td>\n",
       "      <td>14.99</td>\n",
       "      <td>4.5</td>\n",
       "      <td>2</td>\n",
       "    </tr>\n",
       "    <tr>\n",
       "      <th>5</th>\n",
       "      <td>191</td>\n",
       "      <td>0</td>\n",
       "      <td>15.99</td>\n",
       "      <td>4.5</td>\n",
       "      <td>2</td>\n",
       "    </tr>\n",
       "    <tr>\n",
       "      <th>6</th>\n",
       "      <td>110</td>\n",
       "      <td>0</td>\n",
       "      <td>13.99</td>\n",
       "      <td>4.6</td>\n",
       "      <td>2</td>\n",
       "    </tr>\n",
       "    <tr>\n",
       "      <th>7</th>\n",
       "      <td>110</td>\n",
       "      <td>0</td>\n",
       "      <td>13.99</td>\n",
       "      <td>4.5</td>\n",
       "      <td>2</td>\n",
       "    </tr>\n",
       "  </tbody>\n",
       "</table>\n",
       "</div>"
      ],
      "text/plain": [
       "   Company  WebSite  Price  Rating  Cluster_Id\n",
       "3      191        0  13.99     4.0           2\n",
       "4      191        0  14.99     4.5           2\n",
       "5      191        0  15.99     4.5           2\n",
       "6      110        0  13.99     4.6           2\n",
       "7      110        0  13.99     4.5           2"
      ]
     },
     "execution_count": 21,
     "metadata": {},
     "output_type": "execute_result"
    }
   ],
   "source": [
    "clust['Cluster_Id'] = kmeans.labels_\n",
    "clust.head()"
   ]
  },
  {
   "cell_type": "code",
   "execution_count": 22,
   "id": "16acba06",
   "metadata": {},
   "outputs": [
    {
     "data": {
      "text/plain": [
       "<Axes: xlabel='Cluster_Id', ylabel='Price'>"
      ]
     },
     "execution_count": 22,
     "metadata": {},
     "output_type": "execute_result"
    },
    {
     "data": {
      "image/png": "[encoded data removed]",
      "text/plain": [
       "<Figure size 640x480 with 1 Axes>"
      ]
     },
     "metadata": {},
     "output_type": "display_data"
    }
   ],
   "source": [
    "sns.boxplot(x='Cluster_Id', y='Price', data=clust)"
   ]
  },
  {
   "cell_type": "code",
   "execution_count": 23,
   "id": "1cee14d1",
   "metadata": {},
   "outputs": [
    {
     "data": {
      "text/plain": [
       "<Axes: xlabel='Cluster_Id', ylabel='Rating'>"
      ]
     },
     "execution_count": 23,
     "metadata": {},
     "output_type": "execute_result"
    },
    {
     "data": {
      "image/png": "[encoded data removed]",
      "text/plain": [
       "<Figure size 640x480 with 1 Axes>"
      ]
     },
     "metadata": {},
     "output_type": "display_data"
    }
   ],
   "source": [
    "sns.boxplot(x='Cluster_Id', y='Rating', data=clust)"
   ]
  },
  {
   "cell_type": "code",
   "execution_count": 24,
   "id": "5b8f22e5",
   "metadata": {},
   "outputs": [],
   "source": [
    "clust.to_csv(\"Cluster.csv\")"
   ]
  },
  {
   "cell_type": "code",
   "execution_count": 25,
   "id": "da81c981",
   "metadata": {},
   "outputs": [
    {
     "data": {
      "image/png": "[encoded data removed]",
      "text/plain": [
       "<Figure size 800x600 with 1 Axes>"
      ]
     },
     "metadata": {},
     "output_type": "display_data"
    }
   ],
   "source": [
    "# Scatter plot of the clusters\n",
    "plt.figure(figsize=(8, 6))\n",
    "\n",
    "# Extract the feature columns for visualization\n",
    "feature_cols = ['Cluster_Id', 'Price']  # Replace 'Feature1' and 'Feature2' with the actual column names in your 'clust' DataFrame\n",
    "\n",
    "# Loop through each cluster and plot the data points belonging to that cluster with a different color\n",
    "for cluster_id in range(k):\n",
    "    cluster_data = clust[clust['Cluster_Id'] == cluster_id]\n",
    "    plt.scatter(cluster_data[feature_cols[0]], cluster_data[feature_cols[1]], label=f'Cluster {cluster_id + 1}')\n",
    "\n",
    "# Plot the centroids of each cluster as well\n",
    "centroids = kmeans.cluster_centers_\n",
    "plt.scatter(centroids[:, 0], centroids[:, 1], s=100, c='black', marker='X', label='Centroids')\n",
    "\n",
    "# Set plot labels and title\n",
    "plt.xlabel('Cluster_Id')\n",
    "plt.ylabel('Price')\n",
    "plt.title('K-means Clustering')\n",
    "\n",
    "# Show the legend\n",
    "plt.legend()\n",
    "\n",
    "# Show the plot\n",
    "plt.show()"
   ]
  },
  {
   "cell_type": "code",
   "execution_count": 26,
   "id": "67b5b434",
   "metadata": {
    "scrolled": true
   },
   "outputs": [
    {
     "data": {
      "image/png": "[encoded data removed]",
      "text/plain": [
       "<Figure size 800x600 with 1 Axes>"
      ]
     },
     "metadata": {},
     "output_type": "display_data"
    }
   ],
   "source": [
    "# Scatter plot of the clusters\n",
    "plt.figure(figsize=(8, 6))\n",
    "\n",
    "# Extract the feature columns for visualization\n",
    "feature_cols = ['Cluster_Id', 'Rating']  # Replace 'Feature1' and 'Feature2' with the actual column names in your 'clust' DataFrame\n",
    "\n",
    "# Loop through each cluster and plot the data points belonging to that cluster with a different color\n",
    "for cluster_id in range(k):\n",
    "    cluster_data = clust[clust['Cluster_Id'] == cluster_id]\n",
    "    plt.scatter(cluster_data[feature_cols[0]], cluster_data[feature_cols[1]], label=f'Cluster {cluster_id + 1}')\n",
    "\n",
    "# Plot the centroids of each cluster as well\n",
    "centroids = kmeans.cluster_centers_\n",
    "plt.scatter(centroids[:, 0], centroids[:, 1], s=100, c='black', marker='X', label='Centroids')\n",
    "\n",
    "# Set plot labels and title\n",
    "plt.xlabel('Cluster_Id')\n",
    "plt.ylabel('Rating')\n",
    "plt.title('K-means Clustering')\n",
    "\n",
    "# Show the legend\n",
    "plt.legend()\n",
    "\n",
    "# Show the plot\n",
    "plt.show()"
   ]
  },
  {
   "cell_type": "code",
   "execution_count": 27,
   "id": "b272bcda",
   "metadata": {},
   "outputs": [],
   "source": [
    "df['Company'] = df['Company'].astype('str') \n",
    "df['Product'] = df['Product'].astype('str') \n",
    "df['Type of supplement'] = df['Type of supplement'].astype('str')"
   ]
  },
  {
   "cell_type": "code",
   "execution_count": 28,
   "id": "0d4ba8a2",
   "metadata": {},
   "outputs": [],
   "source": [
    "from sklearn.metrics.pairwise import cosine_similarity\n",
    "\n",
    "# Create a user-item matrix\n",
    "user_item_matrix = df.pivot_table(index='Type of supplement', columns='Company', values='Price', fill_value=0)\n"
   ]
  },
  {
   "cell_type": "code",
   "execution_count": 29,
   "id": "4fe90b79",
   "metadata": {},
   "outputs": [
    {
     "name": "stdout",
     "output_type": "stream",
     "text": [
      "<class 'pandas.core.frame.DataFrame'>\n",
      "Index: 5 entries, Creatine to Whey Protein\n",
      "Columns: 405 entries, 100% Whey Pure Protein to up4\n",
      "dtypes: float64(400), int64(5)\n",
      "memory usage: 15.9+ KB\n"
     ]
    }
   ],
   "source": [
    "user_item_matrix.info()"
   ]
  },
  {
   "cell_type": "code",
   "execution_count": 38,
   "id": "db3385c8",
   "metadata": {},
   "outputs": [
    {
     "ename": "KeyError",
     "evalue": "'Creatine'",
     "output_type": "error",
     "traceback": [
      "\u001b[1;31m---------------------------------------------------------------------------\u001b[0m",
      "\u001b[1;31mKeyError\u001b[0m                                  Traceback (most recent call last)",
      "File \u001b[1;32mc:\\Users\\saish\\Documents\\Health-Supplements-Recommendation-System\\.venv\\lib\\site-packages\\pandas\\core\\indexes\\base.py:3653\u001b[0m, in \u001b[0;36mIndex.get_loc\u001b[1;34m(self, key)\u001b[0m\n\u001b[0;32m   3652\u001b[0m \u001b[39mtry\u001b[39;00m:\n\u001b[1;32m-> 3653\u001b[0m     \u001b[39mreturn\u001b[39;00m \u001b[39mself\u001b[39;49m\u001b[39m.\u001b[39;49m_engine\u001b[39m.\u001b[39;49mget_loc(casted_key)\n\u001b[0;32m   3654\u001b[0m \u001b[39mexcept\u001b[39;00m \u001b[39mKeyError\u001b[39;00m \u001b[39mas\u001b[39;00m err:\n",
      "File \u001b[1;32mc:\\Users\\saish\\Documents\\Health-Supplements-Recommendation-System\\.venv\\lib\\site-packages\\pandas\\_libs\\index.pyx:147\u001b[0m, in \u001b[0;36mpandas._libs.index.IndexEngine.get_loc\u001b[1;34m()\u001b[0m\n",
      "File \u001b[1;32mc:\\Users\\saish\\Documents\\Health-Supplements-Recommendation-System\\.venv\\lib\\site-packages\\pandas\\_libs\\index.pyx:176\u001b[0m, in \u001b[0;36mpandas._libs.index.IndexEngine.get_loc\u001b[1;34m()\u001b[0m\n",
      "File \u001b[1;32mpandas\\_libs\\hashtable_class_helper.pxi:7080\u001b[0m, in \u001b[0;36mpandas._libs.hashtable.PyObjectHashTable.get_item\u001b[1;34m()\u001b[0m\n",
      "File \u001b[1;32mpandas\\_libs\\hashtable_class_helper.pxi:7088\u001b[0m, in \u001b[0;36mpandas._libs.hashtable.PyObjectHashTable.get_item\u001b[1;34m()\u001b[0m\n",
      "\u001b[1;31mKeyError\u001b[0m: 'Creatine'",
      "\nThe above exception was the direct cause of the following exception:\n",
      "\u001b[1;31mKeyError\u001b[0m                                  Traceback (most recent call last)",
      "Cell \u001b[1;32mIn[38], line 26\u001b[0m\n\u001b[0;32m     24\u001b[0m \u001b[39m# Replace 'your_user_name' with the user for whom you want recommendations\u001b[39;00m\n\u001b[0;32m     25\u001b[0m user_name \u001b[39m=\u001b[39m \u001b[39m'\u001b[39m\u001b[39mCreatine\u001b[39m\u001b[39m'\u001b[39m\n\u001b[1;32m---> 26\u001b[0m recommendations \u001b[39m=\u001b[39m get_recommendations_for_user(user_name, user_item_matrix, item_similarity)\n\u001b[0;32m     28\u001b[0m \u001b[39m# Print the recommendations\u001b[39;00m\n\u001b[0;32m     29\u001b[0m \u001b[39mprint\u001b[39m(\u001b[39mf\u001b[39m\u001b[39m\"\u001b[39m\u001b[39mTop 5 recommended products for user \u001b[39m\u001b[39m{\u001b[39;00muser_name\u001b[39m}\u001b[39;00m\u001b[39m:\u001b[39m\u001b[39m\"\u001b[39m)\n",
      "Cell \u001b[1;32mIn[38], line 14\u001b[0m, in \u001b[0;36mget_recommendations_for_user\u001b[1;34m(user_name, user_item_matrix, item_similarity_matrix, n)\u001b[0m\n\u001b[0;32m     13\u001b[0m \u001b[39mdef\u001b[39;00m \u001b[39mget_recommendations_for_user\u001b[39m(user_name, user_item_matrix, item_similarity_matrix, n\u001b[39m=\u001b[39m\u001b[39m5\u001b[39m):\n\u001b[1;32m---> 14\u001b[0m     user_items \u001b[39m=\u001b[39m user_item_matrix\u001b[39m.\u001b[39;49mloc[:, user_name]\u001b[39m.\u001b[39mwhere(\u001b[39mlambda\u001b[39;00m x: x \u001b[39m>\u001b[39m \u001b[39m0\u001b[39m)\u001b[39m.\u001b[39mdropna()\n\u001b[0;32m     15\u001b[0m     recommendations \u001b[39m=\u001b[39m \u001b[39mset\u001b[39m()\n\u001b[0;32m     16\u001b[0m     \u001b[39mfor\u001b[39;00m item \u001b[39min\u001b[39;00m user_items\u001b[39m.\u001b[39mindex:\n",
      "File \u001b[1;32mc:\\Users\\saish\\Documents\\Health-Supplements-Recommendation-System\\.venv\\lib\\site-packages\\pandas\\core\\indexing.py:1097\u001b[0m, in \u001b[0;36m_LocationIndexer.__getitem__\u001b[1;34m(self, key)\u001b[0m\n\u001b[0;32m   1095\u001b[0m     \u001b[39mif\u001b[39;00m \u001b[39mself\u001b[39m\u001b[39m.\u001b[39m_is_scalar_access(key):\n\u001b[0;32m   1096\u001b[0m         \u001b[39mreturn\u001b[39;00m \u001b[39mself\u001b[39m\u001b[39m.\u001b[39mobj\u001b[39m.\u001b[39m_get_value(\u001b[39m*\u001b[39mkey, takeable\u001b[39m=\u001b[39m\u001b[39mself\u001b[39m\u001b[39m.\u001b[39m_takeable)\n\u001b[1;32m-> 1097\u001b[0m     \u001b[39mreturn\u001b[39;00m \u001b[39mself\u001b[39;49m\u001b[39m.\u001b[39;49m_getitem_tuple(key)\n\u001b[0;32m   1098\u001b[0m \u001b[39melse\u001b[39;00m:\n\u001b[0;32m   1099\u001b[0m     \u001b[39m# we by definition only have the 0th axis\u001b[39;00m\n\u001b[0;32m   1100\u001b[0m     axis \u001b[39m=\u001b[39m \u001b[39mself\u001b[39m\u001b[39m.\u001b[39maxis \u001b[39mor\u001b[39;00m \u001b[39m0\u001b[39m\n",
      "File \u001b[1;32mc:\\Users\\saish\\Documents\\Health-Supplements-Recommendation-System\\.venv\\lib\\site-packages\\pandas\\core\\indexing.py:1280\u001b[0m, in \u001b[0;36m_LocIndexer._getitem_tuple\u001b[1;34m(self, tup)\u001b[0m\n\u001b[0;32m   1278\u001b[0m \u001b[39mwith\u001b[39;00m suppress(IndexingError):\n\u001b[0;32m   1279\u001b[0m     tup \u001b[39m=\u001b[39m \u001b[39mself\u001b[39m\u001b[39m.\u001b[39m_expand_ellipsis(tup)\n\u001b[1;32m-> 1280\u001b[0m     \u001b[39mreturn\u001b[39;00m \u001b[39mself\u001b[39;49m\u001b[39m.\u001b[39;49m_getitem_lowerdim(tup)\n\u001b[0;32m   1282\u001b[0m \u001b[39m# no multi-index, so validate all of the indexers\u001b[39;00m\n\u001b[0;32m   1283\u001b[0m tup \u001b[39m=\u001b[39m \u001b[39mself\u001b[39m\u001b[39m.\u001b[39m_validate_tuple_indexer(tup)\n",
      "File \u001b[1;32mc:\\Users\\saish\\Documents\\Health-Supplements-Recommendation-System\\.venv\\lib\\site-packages\\pandas\\core\\indexing.py:1000\u001b[0m, in \u001b[0;36m_LocationIndexer._getitem_lowerdim\u001b[1;34m(self, tup)\u001b[0m\n\u001b[0;32m    996\u001b[0m \u001b[39mfor\u001b[39;00m i, key \u001b[39min\u001b[39;00m \u001b[39menumerate\u001b[39m(tup):\n\u001b[0;32m    997\u001b[0m     \u001b[39mif\u001b[39;00m is_label_like(key):\n\u001b[0;32m    998\u001b[0m         \u001b[39m# We don't need to check for tuples here because those are\u001b[39;00m\n\u001b[0;32m    999\u001b[0m         \u001b[39m#  caught by the _is_nested_tuple_indexer check above.\u001b[39;00m\n\u001b[1;32m-> 1000\u001b[0m         section \u001b[39m=\u001b[39m \u001b[39mself\u001b[39;49m\u001b[39m.\u001b[39;49m_getitem_axis(key, axis\u001b[39m=\u001b[39;49mi)\n\u001b[0;32m   1002\u001b[0m         \u001b[39m# We should never have a scalar section here, because\u001b[39;00m\n\u001b[0;32m   1003\u001b[0m         \u001b[39m#  _getitem_lowerdim is only called after a check for\u001b[39;00m\n\u001b[0;32m   1004\u001b[0m         \u001b[39m#  is_scalar_access, which that would be.\u001b[39;00m\n\u001b[0;32m   1005\u001b[0m         \u001b[39mif\u001b[39;00m section\u001b[39m.\u001b[39mndim \u001b[39m==\u001b[39m \u001b[39mself\u001b[39m\u001b[39m.\u001b[39mndim:\n\u001b[0;32m   1006\u001b[0m             \u001b[39m# we're in the middle of slicing through a MultiIndex\u001b[39;00m\n\u001b[0;32m   1007\u001b[0m             \u001b[39m# revise the key wrt to `section` by inserting an _NS\u001b[39;00m\n",
      "File \u001b[1;32mc:\\Users\\saish\\Documents\\Health-Supplements-Recommendation-System\\.venv\\lib\\site-packages\\pandas\\core\\indexing.py:1343\u001b[0m, in \u001b[0;36m_LocIndexer._getitem_axis\u001b[1;34m(self, key, axis)\u001b[0m\n\u001b[0;32m   1341\u001b[0m \u001b[39m# fall thru to straight lookup\u001b[39;00m\n\u001b[0;32m   1342\u001b[0m \u001b[39mself\u001b[39m\u001b[39m.\u001b[39m_validate_key(key, axis)\n\u001b[1;32m-> 1343\u001b[0m \u001b[39mreturn\u001b[39;00m \u001b[39mself\u001b[39;49m\u001b[39m.\u001b[39;49m_get_label(key, axis\u001b[39m=\u001b[39;49maxis)\n",
      "File \u001b[1;32mc:\\Users\\saish\\Documents\\Health-Supplements-Recommendation-System\\.venv\\lib\\site-packages\\pandas\\core\\indexing.py:1293\u001b[0m, in \u001b[0;36m_LocIndexer._get_label\u001b[1;34m(self, label, axis)\u001b[0m\n\u001b[0;32m   1291\u001b[0m \u001b[39mdef\u001b[39;00m \u001b[39m_get_label\u001b[39m(\u001b[39mself\u001b[39m, label, axis: AxisInt):\n\u001b[0;32m   1292\u001b[0m     \u001b[39m# GH#5567 this will fail if the label is not present in the axis.\u001b[39;00m\n\u001b[1;32m-> 1293\u001b[0m     \u001b[39mreturn\u001b[39;00m \u001b[39mself\u001b[39;49m\u001b[39m.\u001b[39;49mobj\u001b[39m.\u001b[39;49mxs(label, axis\u001b[39m=\u001b[39;49maxis)\n",
      "File \u001b[1;32mc:\\Users\\saish\\Documents\\Health-Supplements-Recommendation-System\\.venv\\lib\\site-packages\\pandas\\core\\generic.py:4082\u001b[0m, in \u001b[0;36mNDFrame.xs\u001b[1;34m(self, key, axis, level, drop_level)\u001b[0m\n\u001b[0;32m   4080\u001b[0m \u001b[39mif\u001b[39;00m axis \u001b[39m==\u001b[39m \u001b[39m1\u001b[39m:\n\u001b[0;32m   4081\u001b[0m     \u001b[39mif\u001b[39;00m drop_level:\n\u001b[1;32m-> 4082\u001b[0m         \u001b[39mreturn\u001b[39;00m \u001b[39mself\u001b[39;49m[key]\n\u001b[0;32m   4083\u001b[0m     index \u001b[39m=\u001b[39m \u001b[39mself\u001b[39m\u001b[39m.\u001b[39mcolumns\n\u001b[0;32m   4084\u001b[0m \u001b[39melse\u001b[39;00m:\n",
      "File \u001b[1;32mc:\\Users\\saish\\Documents\\Health-Supplements-Recommendation-System\\.venv\\lib\\site-packages\\pandas\\core\\frame.py:3761\u001b[0m, in \u001b[0;36mDataFrame.__getitem__\u001b[1;34m(self, key)\u001b[0m\n\u001b[0;32m   3759\u001b[0m \u001b[39mif\u001b[39;00m \u001b[39mself\u001b[39m\u001b[39m.\u001b[39mcolumns\u001b[39m.\u001b[39mnlevels \u001b[39m>\u001b[39m \u001b[39m1\u001b[39m:\n\u001b[0;32m   3760\u001b[0m     \u001b[39mreturn\u001b[39;00m \u001b[39mself\u001b[39m\u001b[39m.\u001b[39m_getitem_multilevel(key)\n\u001b[1;32m-> 3761\u001b[0m indexer \u001b[39m=\u001b[39m \u001b[39mself\u001b[39;49m\u001b[39m.\u001b[39;49mcolumns\u001b[39m.\u001b[39;49mget_loc(key)\n\u001b[0;32m   3762\u001b[0m \u001b[39mif\u001b[39;00m is_integer(indexer):\n\u001b[0;32m   3763\u001b[0m     indexer \u001b[39m=\u001b[39m [indexer]\n",
      "File \u001b[1;32mc:\\Users\\saish\\Documents\\Health-Supplements-Recommendation-System\\.venv\\lib\\site-packages\\pandas\\core\\indexes\\base.py:3655\u001b[0m, in \u001b[0;36mIndex.get_loc\u001b[1;34m(self, key)\u001b[0m\n\u001b[0;32m   3653\u001b[0m     \u001b[39mreturn\u001b[39;00m \u001b[39mself\u001b[39m\u001b[39m.\u001b[39m_engine\u001b[39m.\u001b[39mget_loc(casted_key)\n\u001b[0;32m   3654\u001b[0m \u001b[39mexcept\u001b[39;00m \u001b[39mKeyError\u001b[39;00m \u001b[39mas\u001b[39;00m err:\n\u001b[1;32m-> 3655\u001b[0m     \u001b[39mraise\u001b[39;00m \u001b[39mKeyError\u001b[39;00m(key) \u001b[39mfrom\u001b[39;00m \u001b[39merr\u001b[39;00m\n\u001b[0;32m   3656\u001b[0m \u001b[39mexcept\u001b[39;00m \u001b[39mTypeError\u001b[39;00m:\n\u001b[0;32m   3657\u001b[0m     \u001b[39m# If we have a listlike key, _check_indexing_error will raise\u001b[39;00m\n\u001b[0;32m   3658\u001b[0m     \u001b[39m#  InvalidIndexError. Otherwise we fall through and re-raise\u001b[39;00m\n\u001b[0;32m   3659\u001b[0m     \u001b[39m#  the TypeError.\u001b[39;00m\n\u001b[0;32m   3660\u001b[0m     \u001b[39mself\u001b[39m\u001b[39m.\u001b[39m_check_indexing_error(key)\n",
      "\u001b[1;31mKeyError\u001b[0m: 'Creatine'"
     ]
    }
   ],
   "source": [
    "# Calculate item-item similarity based on cosine similarity\n",
    "item_similarity = cosine_similarity(user_item_matrix.T)\n",
    "\n",
    "#The top N similar items for a given item\n",
    "def get_similar_items(item_name, item_similarity_matrix, n=5):\n",
    "    item_idx = user_item_matrix.columns.get_loc(item_name)\n",
    "    similar_indices = item_similarity_matrix[item_idx].argsort()[::-1][1:n+1]\n",
    "    similar_items = user_item_matrix.columns[similar_indices].tolist()\n",
    "    #print(similar_items)\n",
    "    return similar_items\n",
    "\n",
    "#Get recommendations for a user based on item-based collaborative filtering\n",
    "def get_recommendations_for_user(user_name, user_item_matrix, item_similarity_matrix, n=5):\n",
    "    user_items = user_item_matrix.loc[:, user_name].where(lambda x: x > 0).dropna()\n",
    "    recommendations = set()\n",
    "    for item in user_items.index:\n",
    "        similar_items = get_similar_items(item, item_similarity_matrix, n)\n",
    "        recommendations.update(similar_items)\n",
    "        \n",
    "    recommendations.difference_update(user_items.index)\n",
    "    print(recommendations)\n",
    "    return list(recommendations)[:n]\n",
    "\n",
    "# Replace 'your_user_name' with the user for whom you want recommendations\n",
    "user_name = 'Creatine'\n",
    "recommendations = get_recommendations_for_user(user_name, user_item_matrix, item_similarity)\n",
    "\n",
    "# Print the recommendations\n",
    "print(f\"Top 5 recommended products for user {user_name}:\")\n",
    "print(recommendations)"
   ]
  },
  {
   "cell_type": "code",
   "execution_count": null,
   "id": "34a9ad63",
   "metadata": {},
   "outputs": [],
   "source": []
  }
 ],
 "metadata": {
  "kernelspec": {
   "display_name": "Python 3 (ipykernel)",
   "language": "python",
   "name": "python3"
  },
  "language_info": {
   "codemirror_mode": {
    "name": "ipython",
    "version": 3
   },
   "file_extension": ".py",
   "mimetype": "text/x-python",
   "name": "python",
   "nbconvert_exporter": "python",
   "pygments_lexer": "ipython3",
   "version": "3.10.11"
  }
 },
 "nbformat": 4,
 "nbformat_minor": 5
}
