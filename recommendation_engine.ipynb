{
 "cells": [
  {
   "cell_type": "code",
   "execution_count": 29,
   "metadata": {},
   "outputs": [],
   "source": [
    "import pandas as pd\n",
    "import numpy as np\n",
    "\n",
    "# Load the data\n",
    "\n",
    "df = pd.read_csv('Health_Supplements.csv')"
   ]
  },
  {
   "cell_type": "markdown",
   "metadata": {},
   "source": [
    "## Pre-processing the Data"
   ]
  },
  {
   "cell_type": "code",
   "execution_count": 30,
   "metadata": {},
   "outputs": [
    {
     "data": {
      "text/plain": [
       "(18668, 17)"
      ]
     },
     "execution_count": 30,
     "metadata": {},
     "output_type": "execute_result"
    }
   ],
   "source": [
    "df.shape"
   ]
  },
  {
   "cell_type": "code",
   "execution_count": 31,
   "metadata": {},
   "outputs": [
    {
     "data": {
      "text/plain": [
       "index                 0\n",
       "Unnamed: 0            0\n",
       "Company               0\n",
       "Product               0\n",
       "Rating                0\n",
       "Rating Counts         0\n",
       "Price                 0\n",
       "Product Link          0\n",
       "WebSite               0\n",
       "Type of supplement    0\n",
       "Num Quantity          0\n",
       "Units Values          0\n",
       "Category              0\n",
       "Consumer              0\n",
       "Flavour               0\n",
       "Amount                0\n",
       "Per Unit Price        0\n",
       "Vegetarian            0\n",
       "dtype: int64"
      ]
     },
     "execution_count": 31,
     "metadata": {},
     "output_type": "execute_result"
    }
   ],
   "source": [
    "# Dropping NA values\n",
    "\n",
    "df = df.dropna().reset_index()\n",
    "\n",
    "df.isna().sum()"
   ]
  },
  {
   "cell_type": "code",
   "execution_count": 32,
   "metadata": {},
   "outputs": [
    {
     "data": {
      "text/plain": [
       "(18307, 18)"
      ]
     },
     "execution_count": 32,
     "metadata": {},
     "output_type": "execute_result"
    }
   ],
   "source": [
    "df.shape"
   ]
  },
  {
   "cell_type": "code",
   "execution_count": 33,
   "metadata": {},
   "outputs": [],
   "source": [
    "# Dropping index and unnamed:0 columns\n",
    "\n",
    "df.drop(['Unnamed: 0', 'index'], axis=1, inplace=True)\n",
    "\n"
   ]
  },
  {
   "cell_type": "code",
   "execution_count": 34,
   "metadata": {},
   "outputs": [],
   "source": [
    "# Drop duplicate products from product column\n",
    "\n",
    "df = df.drop_duplicates(subset=['Product'], keep='first').reset_index(drop = True)\n"
   ]
  },
  {
   "cell_type": "code",
   "execution_count": 37,
   "metadata": {},
   "outputs": [
    {
     "data": {
      "text/html": [
       "<div>\n",
       "<style scoped>\n",
       "    .dataframe tbody tr th:only-of-type {\n",
       "        vertical-align: middle;\n",
       "    }\n",
       "\n",
       "    .dataframe tbody tr th {\n",
       "        vertical-align: top;\n",
       "    }\n",
       "\n",
       "    .dataframe thead th {\n",
       "        text-align: right;\n",
       "    }\n",
       "</style>\n",
       "<table border=\"1\" class=\"dataframe\">\n",
       "  <thead>\n",
       "    <tr style=\"text-align: right;\">\n",
       "      <th></th>\n",
       "      <th>Company</th>\n",
       "      <th>Product</th>\n",
       "      <th>Rating</th>\n",
       "      <th>Rating Counts</th>\n",
       "      <th>Price</th>\n",
       "      <th>Product Link</th>\n",
       "      <th>WebSite</th>\n",
       "      <th>Type of supplement</th>\n",
       "      <th>Num Quantity</th>\n",
       "      <th>Units Values</th>\n",
       "      <th>Category</th>\n",
       "      <th>Consumer</th>\n",
       "      <th>Flavour</th>\n",
       "      <th>Amount</th>\n",
       "      <th>Per Unit Price</th>\n",
       "      <th>Vegetarian</th>\n",
       "    </tr>\n",
       "  </thead>\n",
       "  <tbody>\n",
       "    <tr>\n",
       "      <th>0</th>\n",
       "      <td>Walgreens</td>\n",
       "      <td>Walgreens Women's Multivitamin Gummies Natural...</td>\n",
       "      <td>4.0</td>\n",
       "      <td>58</td>\n",
       "      <td>13.99</td>\n",
       "      <td>https://walgreens.com/store/c/walgreens-women'...</td>\n",
       "      <td>Walgreens</td>\n",
       "      <td>Multivitamins</td>\n",
       "      <td>150</td>\n",
       "      <td>Tablets</td>\n",
       "      <td>whole_food_multivitamins</td>\n",
       "      <td>general</td>\n",
       "      <td>berry</td>\n",
       "      <td>150</td>\n",
       "      <td>0.09</td>\n",
       "      <td>general</td>\n",
       "    </tr>\n",
       "    <tr>\n",
       "      <th>1</th>\n",
       "      <td>Walgreens</td>\n",
       "      <td>Walgreens Adult Multivitamin Tablets</td>\n",
       "      <td>4.5</td>\n",
       "      <td>49</td>\n",
       "      <td>14.99</td>\n",
       "      <td>https://walgreens.com/store/c/walgreens-adult-...</td>\n",
       "      <td>Walgreens</td>\n",
       "      <td>Multivitamins</td>\n",
       "      <td>200</td>\n",
       "      <td>Tablets</td>\n",
       "      <td>age_specific_multivitamins</td>\n",
       "      <td>general</td>\n",
       "      <td>general</td>\n",
       "      <td>200</td>\n",
       "      <td>0.07</td>\n",
       "      <td>general</td>\n",
       "    </tr>\n",
       "    <tr>\n",
       "      <th>2</th>\n",
       "      <td>Walgreens</td>\n",
       "      <td>Walgreens Men 50+ Multivitamin Tablets, Gluten...</td>\n",
       "      <td>4.5</td>\n",
       "      <td>84</td>\n",
       "      <td>15.99</td>\n",
       "      <td>https://walgreens.com/store/c/walgreens-men-50...</td>\n",
       "      <td>Walgreens</td>\n",
       "      <td>Multivitamins</td>\n",
       "      <td>200</td>\n",
       "      <td>Tablets</td>\n",
       "      <td>general</td>\n",
       "      <td>Men</td>\n",
       "      <td>general</td>\n",
       "      <td>200</td>\n",
       "      <td>0.08</td>\n",
       "      <td>general</td>\n",
       "    </tr>\n",
       "    <tr>\n",
       "      <th>3</th>\n",
       "      <td>Nature Made</td>\n",
       "      <td>Nature Made Multivitamin For Her Tablets</td>\n",
       "      <td>4.6</td>\n",
       "      <td>143</td>\n",
       "      <td>13.99</td>\n",
       "      <td>https://walgreens.com/store/c/nature-made-mult...</td>\n",
       "      <td>Walgreens</td>\n",
       "      <td>Multivitamins</td>\n",
       "      <td>90</td>\n",
       "      <td>Tablets</td>\n",
       "      <td>general</td>\n",
       "      <td>general</td>\n",
       "      <td>general</td>\n",
       "      <td>90</td>\n",
       "      <td>0.16</td>\n",
       "      <td>general</td>\n",
       "    </tr>\n",
       "    <tr>\n",
       "      <th>4</th>\n",
       "      <td>Walgreens</td>\n",
       "      <td>Walgreens Women's 50+ Multivitamin Tablets</td>\n",
       "      <td>4.5</td>\n",
       "      <td>21</td>\n",
       "      <td>15.99</td>\n",
       "      <td>https://walgreens.com/store/c/walgreens-women'...</td>\n",
       "      <td>Walgreens</td>\n",
       "      <td>Multivitamins</td>\n",
       "      <td>200</td>\n",
       "      <td>Tablets</td>\n",
       "      <td>general</td>\n",
       "      <td>general</td>\n",
       "      <td>general</td>\n",
       "      <td>200</td>\n",
       "      <td>0.08</td>\n",
       "      <td>general</td>\n",
       "    </tr>\n",
       "  </tbody>\n",
       "</table>\n",
       "</div>"
      ],
      "text/plain": [
       "       Company                                            Product  Rating  \\\n",
       "0    Walgreens  Walgreens Women's Multivitamin Gummies Natural...     4.0   \n",
       "1    Walgreens               Walgreens Adult Multivitamin Tablets     4.5   \n",
       "2    Walgreens  Walgreens Men 50+ Multivitamin Tablets, Gluten...     4.5   \n",
       "3  Nature Made           Nature Made Multivitamin For Her Tablets     4.6   \n",
       "4    Walgreens         Walgreens Women's 50+ Multivitamin Tablets     4.5   \n",
       "\n",
       "   Rating Counts  Price                                       Product Link  \\\n",
       "0             58  13.99  https://walgreens.com/store/c/walgreens-women'...   \n",
       "1             49  14.99  https://walgreens.com/store/c/walgreens-adult-...   \n",
       "2             84  15.99  https://walgreens.com/store/c/walgreens-men-50...   \n",
       "3            143  13.99  https://walgreens.com/store/c/nature-made-mult...   \n",
       "4             21  15.99  https://walgreens.com/store/c/walgreens-women'...   \n",
       "\n",
       "     WebSite Type of supplement Num Quantity Units Values  \\\n",
       "0  Walgreens      Multivitamins          150      Tablets   \n",
       "1  Walgreens      Multivitamins          200      Tablets   \n",
       "2  Walgreens      Multivitamins          200      Tablets   \n",
       "3  Walgreens      Multivitamins           90      Tablets   \n",
       "4  Walgreens      Multivitamins          200      Tablets   \n",
       "\n",
       "                     Category Consumer  Flavour Amount Per Unit Price  \\\n",
       "0    whole_food_multivitamins  general    berry    150           0.09   \n",
       "1  age_specific_multivitamins  general  general    200           0.07   \n",
       "2                     general      Men  general    200           0.08   \n",
       "3                     general  general  general     90           0.16   \n",
       "4                     general  general  general    200           0.08   \n",
       "\n",
       "  Vegetarian  \n",
       "0    general  \n",
       "1    general  \n",
       "2    general  \n",
       "3    general  \n",
       "4    general  "
      ]
     },
     "execution_count": 37,
     "metadata": {},
     "output_type": "execute_result"
    }
   ],
   "source": [
    "df.head()"
   ]
  },
  {
   "cell_type": "code",
   "execution_count": 22,
   "metadata": {},
   "outputs": [
    {
     "data": {
      "text/plain": [
       "array(['Multivitamins', 'Omega 3', 'Probiotic', 'Whey Protein',\n",
       "       'Creatine'], dtype=object)"
      ]
     },
     "execution_count": 22,
     "metadata": {},
     "output_type": "execute_result"
    }
   ],
   "source": [
    "df[\"Type of supplement\"].unique()"
   ]
  },
  {
   "cell_type": "markdown",
   "metadata": {},
   "source": [
    "## Feature Engineering"
   ]
  },
  {
   "cell_type": "code",
   "execution_count": 23,
   "metadata": {},
   "outputs": [
    {
     "data": {
      "text/plain": [
       "0       Multivitamins general berry whole_food_multivi...\n",
       "1       Multivitamins general general age_specific_mul...\n",
       "2           Multivitamins Men general general 200 general\n",
       "3        Multivitamins general general general 90 general\n",
       "4       Multivitamins general general general 200 general\n",
       "                              ...                        \n",
       "4633    Whey Protein general   creamy vanilla general ...\n",
       "4634    Whey Protein general general general 80 Vegeta...\n",
       "4635    Whey Protein general   unsweetened general 10....\n",
       "4636    Whey Protein general   simply natural original...\n",
       "4637    Whey Protein general   vanilla creme general 3...\n",
       "Name: combined_features, Length: 4638, dtype: object"
      ]
     },
     "execution_count": 23,
     "metadata": {},
     "output_type": "execute_result"
    }
   ],
   "source": [
    "# Features that can influence the recommendation engine:\n",
    "\n",
    "feature_vector = [\"Type of supplement\", \"Consumer\", \"Flavour\", \"Category\", \"Amount\", \"Vegetarian\"]\n",
    "\n",
    "df['combined_features'] = df[feature_vector].apply(lambda x: ' '.join(x), axis=1)\n",
    "\n",
    "\n",
    "df[\"combined_features\"]"
   ]
  },
  {
   "cell_type": "markdown",
   "metadata": {},
   "source": [
    "## Vectorization"
   ]
  },
  {
   "cell_type": "code",
   "execution_count": 24,
   "metadata": {},
   "outputs": [],
   "source": [
    "from sklearn.feature_extraction.text import TfidfVectorizer\n",
    "from sklearn.metrics.pairwise import linear_kernel\n",
    "\n",
    "tfid_vec = TfidfVectorizer()\n",
    "\n",
    "tfid_matrix = tfid_vec.fit_transform(df['combined_features'])\n",
    "\n",
    "# Similarly Calcualtion\n",
    "\n",
    "cosine_sim = linear_kernel(tfid_matrix, tfid_matrix)\n"
   ]
  },
  {
   "cell_type": "markdown",
   "metadata": {},
   "source": [
    "## Recommendation Engine"
   ]
  },
  {
   "cell_type": "code",
   "execution_count": 26,
   "metadata": {},
   "outputs": [],
   "source": [
    "# Step 5: Recommendation Generation\n",
    "def get_recommendations(product_index, consumer_filter=None):\n",
    "    sim_scores = list(enumerate(cosine_sim[product_index]))\n",
    "    sim_scores = sorted(sim_scores, key=lambda x: x[1], reverse=True)\n",
    "    sim_scores = sim_scores[1:6]  # Get the top 5 similar products (excluding the product itself)\n",
    "    product_indices = [i[0] for i in sim_scores]\n",
    "\n",
    "    if consumer_filter:\n",
    "        filtered_indices = [idx for idx in product_indices if df.iloc[idx]['Consumer'] == consumer_filter]\n",
    "        return df.iloc[filtered_indices]\n",
    "    else:\n",
    "        return df.iloc[product_indices]"
   ]
  },
  {
   "cell_type": "code",
   "execution_count": 27,
   "metadata": {},
   "outputs": [
    {
     "data": {
      "text/plain": [
       "(4638, 18)"
      ]
     },
     "execution_count": 27,
     "metadata": {},
     "output_type": "execute_result"
    }
   ],
   "source": [
    "\n",
    "df.shape"
   ]
  },
  {
   "cell_type": "code",
   "execution_count": 38,
   "metadata": {},
   "outputs": [
    {
     "data": {
      "text/html": [
       "<div>\n",
       "<style scoped>\n",
       "    .dataframe tbody tr th:only-of-type {\n",
       "        vertical-align: middle;\n",
       "    }\n",
       "\n",
       "    .dataframe tbody tr th {\n",
       "        vertical-align: top;\n",
       "    }\n",
       "\n",
       "    .dataframe thead th {\n",
       "        text-align: right;\n",
       "    }\n",
       "</style>\n",
       "<table border=\"1\" class=\"dataframe\">\n",
       "  <thead>\n",
       "    <tr style=\"text-align: right;\">\n",
       "      <th></th>\n",
       "      <th>Company</th>\n",
       "      <th>Product</th>\n",
       "      <th>Rating</th>\n",
       "      <th>Rating Counts</th>\n",
       "      <th>Price</th>\n",
       "      <th>Product Link</th>\n",
       "      <th>WebSite</th>\n",
       "      <th>Type of supplement</th>\n",
       "      <th>Num Quantity</th>\n",
       "      <th>Units Values</th>\n",
       "      <th>Category</th>\n",
       "      <th>Consumer</th>\n",
       "      <th>Flavour</th>\n",
       "      <th>Amount</th>\n",
       "      <th>Per Unit Price</th>\n",
       "      <th>Vegetarian</th>\n",
       "    </tr>\n",
       "  </thead>\n",
       "  <tbody>\n",
       "    <tr>\n",
       "      <th>77</th>\n",
       "      <td>Centrum</td>\n",
       "      <td>Centrum Adult Multivitamin &amp; Multimineral Supp...</td>\n",
       "      <td>4.5</td>\n",
       "      <td>250</td>\n",
       "      <td>22.99</td>\n",
       "      <td>https://walgreens.com/store/c/centrum-adult-mu...</td>\n",
       "      <td>Walgreens</td>\n",
       "      <td>Multivitamins</td>\n",
       "      <td>200</td>\n",
       "      <td>Tablets</td>\n",
       "      <td>age_specific_multivitamins</td>\n",
       "      <td>general</td>\n",
       "      <td>general</td>\n",
       "      <td>200</td>\n",
       "      <td>0.11</td>\n",
       "      <td>general</td>\n",
       "    </tr>\n",
       "    <tr>\n",
       "      <th>4</th>\n",
       "      <td>Walgreens</td>\n",
       "      <td>Walgreens Women's 50+ Multivitamin Tablets</td>\n",
       "      <td>4.5</td>\n",
       "      <td>21</td>\n",
       "      <td>15.99</td>\n",
       "      <td>https://walgreens.com/store/c/walgreens-women'...</td>\n",
       "      <td>Walgreens</td>\n",
       "      <td>Multivitamins</td>\n",
       "      <td>200</td>\n",
       "      <td>Tablets</td>\n",
       "      <td>general</td>\n",
       "      <td>general</td>\n",
       "      <td>general</td>\n",
       "      <td>200</td>\n",
       "      <td>0.08</td>\n",
       "      <td>general</td>\n",
       "    </tr>\n",
       "    <tr>\n",
       "      <th>13</th>\n",
       "      <td>Walgreens</td>\n",
       "      <td>Walgreens Men's Multivitamin Tablets</td>\n",
       "      <td>4.0</td>\n",
       "      <td>54</td>\n",
       "      <td>15.99</td>\n",
       "      <td>https://walgreens.com/store/c/walgreens-men's-...</td>\n",
       "      <td>Walgreens</td>\n",
       "      <td>Multivitamins</td>\n",
       "      <td>200</td>\n",
       "      <td>Tablets</td>\n",
       "      <td>general</td>\n",
       "      <td>general</td>\n",
       "      <td>general</td>\n",
       "      <td>200</td>\n",
       "      <td>0.08</td>\n",
       "      <td>general</td>\n",
       "    </tr>\n",
       "    <tr>\n",
       "      <th>99</th>\n",
       "      <td>Walgreens</td>\n",
       "      <td>Walgreens Iron-Free Multivitamin Tablets</td>\n",
       "      <td>4.5</td>\n",
       "      <td>5</td>\n",
       "      <td>12.99</td>\n",
       "      <td>https://walgreens.com/store/c/walgreens-iron-f...</td>\n",
       "      <td>Walgreens</td>\n",
       "      <td>Multivitamins</td>\n",
       "      <td>200</td>\n",
       "      <td>Tablets</td>\n",
       "      <td>general</td>\n",
       "      <td>general</td>\n",
       "      <td>general</td>\n",
       "      <td>200</td>\n",
       "      <td>0.06</td>\n",
       "      <td>general</td>\n",
       "    </tr>\n",
       "    <tr>\n",
       "      <th>1129</th>\n",
       "      <td>One-A-Day</td>\n",
       "      <td>Men's Complete Multivitamin</td>\n",
       "      <td>4.7</td>\n",
       "      <td>2301</td>\n",
       "      <td>22.64</td>\n",
       "      <td>https://www.iherb.com/pr/one-a-day-men-s-compl...</td>\n",
       "      <td>iHerb</td>\n",
       "      <td>Multivitamins</td>\n",
       "      <td>200</td>\n",
       "      <td>Tablets</td>\n",
       "      <td>general</td>\n",
       "      <td>general</td>\n",
       "      <td>general</td>\n",
       "      <td>200</td>\n",
       "      <td>0.1132</td>\n",
       "      <td>general</td>\n",
       "    </tr>\n",
       "  </tbody>\n",
       "</table>\n",
       "</div>"
      ],
      "text/plain": [
       "        Company                                            Product  Rating  \\\n",
       "77      Centrum  Centrum Adult Multivitamin & Multimineral Supp...     4.5   \n",
       "4     Walgreens         Walgreens Women's 50+ Multivitamin Tablets     4.5   \n",
       "13    Walgreens               Walgreens Men's Multivitamin Tablets     4.0   \n",
       "99    Walgreens           Walgreens Iron-Free Multivitamin Tablets     4.5   \n",
       "1129  One-A-Day                        Men's Complete Multivitamin     4.7   \n",
       "\n",
       "      Rating Counts  Price                                       Product Link  \\\n",
       "77              250  22.99  https://walgreens.com/store/c/centrum-adult-mu...   \n",
       "4                21  15.99  https://walgreens.com/store/c/walgreens-women'...   \n",
       "13               54  15.99  https://walgreens.com/store/c/walgreens-men's-...   \n",
       "99                5  12.99  https://walgreens.com/store/c/walgreens-iron-f...   \n",
       "1129           2301  22.64  https://www.iherb.com/pr/one-a-day-men-s-compl...   \n",
       "\n",
       "        WebSite Type of supplement Num Quantity Units Values  \\\n",
       "77    Walgreens      Multivitamins          200      Tablets   \n",
       "4     Walgreens      Multivitamins          200      Tablets   \n",
       "13    Walgreens      Multivitamins          200      Tablets   \n",
       "99    Walgreens      Multivitamins          200      Tablets   \n",
       "1129      iHerb      Multivitamins          200      Tablets   \n",
       "\n",
       "                        Category Consumer  Flavour Amount Per Unit Price  \\\n",
       "77    age_specific_multivitamins  general  general    200           0.11   \n",
       "4                        general  general  general    200           0.08   \n",
       "13                       general  general  general    200           0.08   \n",
       "99                       general  general  general    200           0.06   \n",
       "1129                     general  general  general    200         0.1132   \n",
       "\n",
       "     Vegetarian  \n",
       "77      general  \n",
       "4       general  \n",
       "13      general  \n",
       "99      general  \n",
       "1129    general  "
      ]
     },
     "execution_count": 38,
     "metadata": {},
     "output_type": "execute_result"
    }
   ],
   "source": [
    "get_recommendations(1)"
   ]
  }
 ],
 "metadata": {
  "kernelspec": {
   "display_name": ".venv",
   "language": "python",
   "name": "python3"
  },
  "language_info": {
   "codemirror_mode": {
    "name": "ipython",
    "version": 3
   },
   "file_extension": ".py",
   "mimetype": "text/x-python",
   "name": "python",
   "nbconvert_exporter": "python",
   "pygments_lexer": "ipython3",
   "version": "3.10.11"
  },
  "orig_nbformat": 4
 },
 "nbformat": 4,
 "nbformat_minor": 2
}
